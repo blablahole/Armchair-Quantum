{
 "cells": [
  {
   "cell_type": "markdown",
   "id": "optical-engineering",
   "metadata": {},
   "source": [
    "You should try out the IBM quantum service that connects to their hardware!"
   ]
  },
  {
   "cell_type": "code",
   "execution_count": 1,
   "id": "leading-acoustic",
   "metadata": {},
   "outputs": [
    {
     "data": {
      "text/html": [
       "<iframe src=\"https://www.ibm.com/quantum-computing/tools/\" width=\"800\" height=\"1800\"></iframe>\n"
      ],
      "text/plain": [
       "<IPython.core.display.HTML object>"
      ]
     },
     "metadata": {},
     "output_type": "display_data"
    }
   ],
   "source": [
    "%%html\n",
    "<iframe src=\"https://www.ibm.com/quantum-computing/tools/\" width=\"800\" height=\"1800\"></iframe>\n"
   ]
  }
 ],
 "metadata": {
  "kernelspec": {
   "display_name": "Python 3",
   "language": "python",
   "name": "python3"
  },
  "language_info": {
   "codemirror_mode": {
    "name": "ipython",
    "version": 3
   },
   "file_extension": ".py",
   "mimetype": "text/x-python",
   "name": "python",
   "nbconvert_exporter": "python",
   "pygments_lexer": "ipython3",
   "version": "3.9.5"
  },
  "toc-autonumbering": false,
  "toc-showcode": false,
  "toc-showmarkdowntxt": false
 },
 "nbformat": 4,
 "nbformat_minor": 5
}
