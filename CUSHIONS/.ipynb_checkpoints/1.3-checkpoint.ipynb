{
 "cells": [
  {
   "cell_type": "code",
   "execution_count": null,
   "id": "ea2b2ae1",
   "metadata": {},
   "outputs": [],
   "source": [
    "import scipy.constants as constant\n",
    "print (\"Plank's constant:\", constant.h)\n",
    "print (\"Speed of light:\", constant.c)\n",
    "print (\"Charge on an electron:\", constant.e)\n",
    "\n",
    "\n",
    "#Variables and constants \n",
    "lamb = 1849e-010; # Wavelength of incident light, m\n",
    "V_0 = 2.72; # Stopping potential for emitted electrons, V"
   ]
  }
 ],
 "metadata": {
  "kernelspec": {
   "display_name": "Python 3",
   "language": "python",
   "name": "python3"
  },
  "language_info": {
   "codemirror_mode": {
    "name": "ipython",
    "version": 3
   },
   "file_extension": ".py",
   "mimetype": "text/x-python",
   "name": "python",
   "nbconvert_exporter": "python",
   "pygments_lexer": "ipython3",
   "version": "3.9.5"
  }
 },
 "nbformat": 4,
 "nbformat_minor": 5
}
