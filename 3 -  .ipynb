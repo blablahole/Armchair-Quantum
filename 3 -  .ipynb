{
 "cells": [
  {
   "cell_type": "markdown",
   "id": "1eb7bc3f-91e6-45db-a320-e128ad4a6500",
   "metadata": {},
   "source": [
    "# 3.1 Light Spectrum"
   ]
  },
  {
   "cell_type": "markdown",
   "id": "b7cb7eea-8f25-4347-b917-0a53ddd41245",
   "metadata": {},
   "source": [
    "# 3.2 Qubits"
   ]
  },
  {
   "cell_type": "markdown",
   "id": "88477001-eb0c-4d5f-aacf-1e2d695393b2",
   "metadata": {},
   "source": [
    "# 3.3 Quantum Gate"
   ]
  }
 ],
 "metadata": {
  "kernelspec": {
   "display_name": "Python 3",
   "language": "python",
   "name": "python3"
  },
  "language_info": {
   "codemirror_mode": {
    "name": "ipython",
    "version": 3
   },
   "file_extension": ".py",
   "mimetype": "text/x-python",
   "name": "python",
   "nbconvert_exporter": "python",
   "pygments_lexer": "ipython3",
   "version": "3.9.5"
  }
 },
 "nbformat": 4,
 "nbformat_minor": 5
}
