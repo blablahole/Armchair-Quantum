{
 "cells": [
  {
   "cell_type": "markdown",
   "metadata": {},
   "source": [
    "We have created a space for you to engage with quantum mechanics, When you first come into the room, you cannot see . \n Hit `shift` + `enter` twice."
   ]
  },
  {
   "cell_type": "code",
   "execution_count": null,
   "metadata": {},
   "outputs": [],
   "source": [
    "from IPython.display import Image\n",
    "Image(\"CUSHIONS/1.0.png\")"
   ]
  },
  {
   "cell_type": "markdown",
   "metadata": {},
   "source": [
    "Here is our first vision. This is a mini copper chair but the back supports are 3 mm apart, this makes the effect on the light \n",
    "\n",
    "We have not found our armchair yet to relax. But we can lessen the light by hitting `shift` + `enter` again to  focus on the chair bars. \nThat is how we will move through this story."
   ]
  },
  {
   "cell_type": "code",
   "execution_count": null,
   "metadata": {},
   "outputs": [],
   "source": [
    "Image(\"CUSHIONS/1.1.png\")"
   ]
  },
  {
   "cell_type": "markdown",
   "metadata": {},
   "source": [
    "Our original  two light bars are replaced by many light bars on the wall. These form a wave-like pattern where the two light bars now interfere with each other.\n",
    "You can simulate how the light waves interfere each other with Python programming language:\n",
    "1. We will install numpy for numeric calculation and matplotlib for data visualisation.",
   ]
  },
  {
   "cell_type": "code",
   "execution_count": null,
   "metadata": {},
   "outputs": [],
   "source": [
    "pip install numpy matplotlib"
   ]
  },
  {
   "cell_type": "markdown",
   "metadata": {},
   "source": [
    "2. Then import these libraries as local variablesk"
   ]
  },
  {
   "cell_type": "code",
   "execution_count": null,
   "metadata": {},
   "outputs": [],
   "source": [
    "import numpy as np\n",
    "from matplotlib import pyplot as plt"
   ]
  },
  {
   "cell_type": "markdown",
   "metadata": {},
   "source": [
    "3. Let's simulate light waves taking an aerial view.        "
   ]
  },
  {
   "cell_type": "code",
   "execution_count": null,
   "metadata": {},
   "outputs": [],
   "source": [
    "run CUSHIONS/1.1.py"
   ]
  },
  {
   "cell_type": "markdown",
   "metadata": {},
   "source": [
    "The white areas are where the waves add to each other, \nthe grey areas are where waves overlap and cancel each other\n",
    "\n",
    "4. Let's animate these waves in our water lab"
   ]
  },
  {
   "cell_type": "code",
   "execution_count": null,
   "metadata": {},
   "outputs": [],
   "source": [
    "run CUSHIONS/1.2.py"
   ]
  },
  {
   "cell_type": "markdown",
   "metadata": {},
   "source": [
    "If overlapped emissions are more concentrated than other parts, would they cause denser hit for projected targets?[not sure what you mean]\n",
    "$\\;$\n",
    "<div><img src=\"CUSHIONS/1.2.gif\" width=\"450\"/></div>\n",
    "\n",
    "<p style=\"margin-left: 1.2em;line-height: 1; font-family: Arial; font-style: italic; font-size:0.7em;color:#c4c4c4;\"> Animation excerpt from \"What the Bleep: Down the Rabbit Hole\" </p>\n",
    "\n",
    "The concept of light as waves was first established in the Double Slit Experiment by Thomas Young in 1801, it suggested light travels in a wave-like pattern \n",
    "\n",
    "<div><img src=\"CUSHIONS/1.3.jpg\" width=\"450\"/></div>\n",
    "\n",
    "<p style=\"margin-left: 1.2em;line-height: 1; font-family: Arial; font-style: italic; font-size:0.7em;color:#c4c4c4;\"> The interference pattern observed by Young (Plate XXX, Fig. 442, A Course of Lectures on Natural Philosophy and the Mechanical Arts. Thomas Young, 1807). </p>\n",
    "\n",
    "<p style=\"line-height: 1.7; font-family: Arial; font-size:1em;color:blue;\"> Ah, you wonder if this interpretation is made to satisfy our reductionist tendency to explain pretty phenomenon symmetrically? </p>\n",
    "\n",
    "<p style=\"line-height: 1.7; font-family: Arial; font-size:1em;color:blue;\"> Like how we love to cherry-picking forms and set them as the 'true' representation.</p>\n",
    "\n",
    "Normally physicists would dodge metaphysical inquiry, but your question actually sparks something another question. \n",
    "\n",
    "Not one \"pretty\" discovery, but two, which have led to more mysteries.\n",
    "\n",
    "In order to see the second discovery, we zoom into our copper chair surface, going to the molecular level.\n",
    "\n",
    "Here's our pretty glimpse of cooper atom (Cu) model, where 29 electrons surrounding around a bunch of protons and neutrons: \n",
    "\n",
    "<div><img src=\"CUSHIONS/1.4.png\" width=\"450\"/></div>\n",
    "<p style=\"margin-left: 1.2em;line-height: 1; font-family: Arial; font-style: italic; font-size:0.7em;color:#c4c4c4;\"> Image created by Carlos Clarivan </p>\n"
   ]
  },
  {
   "cell_type": "markdown",
   "metadata": {},
   "source": [
    "If we shoot light beam on any cooper atom, its 29 electrons would gradually escape the atom based on the energy intensity."
   ]
  },
  {
   "cell_type": "markdown",
   "metadata": {},
   "source": [
    "<p style=\"line-height: 1.7; font-family: Arial; font-size:1em;color:blue;\"> Escape? How does that even happen? </p>\n"
   ]
  },
  {
   "cell_type": "markdown",
   "metadata": {},
   "source": [
    "I know, how do we even unpack what's going on with light waves?"
   ]
  },
  {
   "cell_type": "markdown",
   "metadata": {},
   "source": [
    "Or maybe.. if we imagine light waves hitting on the electron bit by bit with a standard metric, then we could potentially measure the action."
   ]
  },
  {
   "cell_type": "markdown",
   "metadata": {},
   "source": [
    "<p style=\"line-height: 1.7; font-family: Arial; font-size:1em;color:blue;\"> Does that indicates light as particles instead of continuous? </p>\n"
   ]
  },
  {
   "cell_type": "markdown",
   "metadata": {},
   "source": [
    "Congradulations you just (re-)discovered light particles: photons!"
   ]
  },
  {
   "cell_type": "markdown",
   "metadata": {},
   "source": [
    "<p style=\"line-height: 1.7; font-family: Arial; font-size:1em;color:blue;\"> Ok I'm getting impatient just tell me how electrons escape. </p>"
   ]
  },
  {
   "cell_type": "markdown",
   "metadata": {},
   "source": [
    "First, light particles, or photons, hit on the electron.\n",
    "\n",
    "<div><img src=\"CUSHIONS/1.5.png\" width=\"225\"/></div>\n",
    "<p style=\"margin-left: 1.2em;line-height: 1; font-family: Arial; font-style: italic; font-size:0.7em;color:#c4c4c4;\"> Image source: Khan Academy </p>\n",
    "\n",
    "Second, more electrons escape their atomic position as light frequency increased. Escaped electrons are known as photoelectron.\n",
    "\n",
    "<div><img src=\"CUSHIONS/1.6.png\" width=\"450\"/></div>\n",
    "<p style=\"margin-left: 1.2em;line-height: 1; font-family: Arial; font-style: italic; font-size:0.7em;color:#c4c4c4;\"> Image source: Khan Academy </p>\n"
   ]
  },
  {
   "cell_type": "markdown",
   "metadata": {},
   "source": [
    "<p style=\"line-height: 1.7; font-family: Arial; font-size:1em;color:blue;\"> I mean, how do we know?  </p>\n",
    "\n",
    "If there is a positive relationship between light frequency and photoelectrons, then we could actually measure it!\n",
    "\n",
    "<p style=\"line-height: 1.7; font-family: Arial; font-size:1em;color:blue;\"> If photon energy has a discrete feature like numbers on rulers or clocks, what kind of unit can we use? </p>\n",
    "\n",
    "\n",
    "And yes light energy has a discrete feature, we can use the plank's constant $h$ to measure we could use It is called the work function, the threshold for having enough intensity of photons to start pushing electrons to escape."
   ]
  },
  {
   "cell_type": "markdown",
   "metadata": {
    "tags": []
   },
   "source": [
    "But first, we have to unpack the energy of photon, which is the\n",
    "\n",
    "\n",
    "\n",
    "$$ E=hv $$\n",
    "\n",
    "Energy of photon = Plank's constant x frequency (amplitude passing a measured point)\n",
    "E_photon = h x v"
   ]
  },
  {
   "cell_type": "code",
   "execution_count": 1,
   "metadata": {},
   "outputs": [
    {
     "name": "stdout",
     "output_type": "stream",
     "text": [
      "3.141592653589793\n"
     ]
    }
   ],
   "source": [
    "import scipy.constants as constant\n",
    "print (constant.pi)"
   ]
  },
  {
   "cell_type": "code",
   "execution_count": 7,
   "metadata": {},
   "outputs": [
    {
     "name": "stdout",
     "output_type": "stream",
     "text": [
      "Plank's constant: 6.62607015e-34\n",
      "Speed of light: 299792458.0\n",
      "Charge on an electron: 1.602176634e-19\n"
     ]
    }
   ],
   "source": [
    "import scipy.constants as constant\n",
    "print (\"Plank's constant:\", constant.h)\n",
    "print (\"Speed of light:\", constant.c)\n",
    "print (\"Charge on an electron:\", constant.e)\n",
    "\n",
    "\n",
    "#Variables and constants \n",
    "lamb = 1849e-010; # Wavelength of incident light, m\n",
    "V_0 = 2.72; # Stopping potential for emitted electrons, V"
   ]
  },
  {
   "cell_type": "code",
   "execution_count": 10,
   "metadata": {},
   "outputs": [
    {
     "name": "stdout",
     "output_type": "stream",
     "text": [
      "\n",
      "Threhold frequency for Cu metal = 963755626899999.9 Hz\n",
      "\n",
      "The work function of Cu metal =  4 eV\n",
      "\n",
      "The maximum kinetic energy of photoelectrons = 2.72 eV\n"
     ]
    }
   ],
   "source": [
    "import scipy.constants as constant\n",
    "from __future__ import division\n",
    "import math \n",
    "\n",
    "\n",
    "#Calculation\n",
    "f = constant.c/lamb; # Frequency of incident radiation , Hz\n",
    "E = constant.h*f; # Energy carried by one photon from Planck's law, J\n",
    "T_max = e*V_0; # Maximum kinetic energy of electrons, J\n",
    " # We have, T_max = E - h*f_0 = h*f - W\n",
    "f_0 = (-T_max + E )/constant.h # Threshold frequency for Cu metal, Hz\n",
    "W = constant.h*f_0/e; # Work function of Cu metal, eV\n",
    "\n",
    "#Result\n",
    "print(\"\\nThrehold frequency for Cu metal =\",round((f_0*10**-14),10)*10**14,\"Hz\")\n",
    "print(\"\\nThe work function of Cu metal = \",round(W),\"eV\")\n",
    "print(\"\\nThe maximum kinetic energy of photoelectrons =\",round(T_max/e,2),\"eV\")"
   ]
  },
  {
   "cell_type": "markdown",
   "metadata": {},
   "source": [
    "\n",
    "No matter how, you've just went through:\n",
    "\n",
    "- Light as waves - double slit experiment\n",
    "- Light as particles - photoelectic effect and work function\n",
    "- Light as particles emitting in wave patterns - wave-particle duality"
   ]
  }
 ],
 "metadata": {
  "kernelspec": {
   "display_name": "Python 3",
   "language": "python",
   "name": "python3"
  },
  "language_info": {
   "codemirror_mode": {
    "name": "ipython",
    "version": 3
   },
   "file_extension": ".py",
   "mimetype": "text/x-python",
   "name": "python",
   "nbconvert_exporter": "python",
   "pygments_lexer": "ipython3",
   "version": "3.9.5"
  }
 },
 "nbformat": 4,
 "nbformat_minor": 4
}
