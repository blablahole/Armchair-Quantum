{
 "cells": [
  {
   "cell_type": "markdown",
   "metadata": {
    "tags": []
   },
   "source": [
    "# 1.1 Light As Waves\n",
    "\n",
    "We will start in a space where you can engage with quantum phenonmenon. In this room, you hit `shift` + `enter` twice to start the story. Run each phrase in sequence to get the whole story (and picture). \n",
    "\n",
    "Let's find a chair before we start."
   ]
  },
  {
   "cell_type": "code",
   "execution_count": null,
   "metadata": {
    "tags": []
   },
   "outputs": [],
   "source": [
    "from IPython.display import Image\n",
    "Image(\"CUSHIONS/1.0.png\")"
   ]
  },
  {
   "cell_type": "markdown",
   "metadata": {},
   "source": [
    "<p style=\"color:blue;\">However this is a very tiny copper chair so you can see on the small scale that we are talking about. At this size the back supports are 3 mm apart, this makes an effect on the light as it is very small too </p>\n",
    "\n",
    "<p >Here sit down in an armchair instead, that is a comfortable place to watch us and listen </p>\n",
    "\n",
    "<p style=\"color:blue;\">We can lessen the light intensity by hitting `shift` + `enter` again to  focus on the chair bars</p>\n",
    "\n",
    "<p style=\"line-height: 1.7; font-family: Arial; font-size:1em;color:blue;\">This is how we will move through this story</p>"
   ]
  },
  {
   "cell_type": "code",
   "execution_count": null,
   "metadata": {
    "tags": []
   },
   "outputs": [],
   "source": [
    "Image(\"CUSHIONS/1.1.png\")"
   ]
  },
  {
   "cell_type": "markdown",
   "metadata": {},
   "source": [
    "<p style=\"line-height: 1.7; font-family: Arial; font-size:1em;color:blue;\">Our original  two light bars are replaced by many light bars on the wall. These form a wave-like pattern where the two light bars now interfere with each other. This is a classic property of light.</p>\n",
    "\n",
    "<p style=\"line-height: 1.7; font-family: Arial; font-size:1em;color:blue;\">You can simulate how the light waves interfere each other with Python programming language:</p>\n",
    "\n",
    "First we will install numpy for numeric calculation and matplotlib for data visualisation to help the program show you the light effects."
   ]
  },
  {
   "cell_type": "code",
   "execution_count": 1,
   "metadata": {
    "tags": []
   },
   "outputs": [],
   "source": [
    "%%capture\n",
    "pip install numpy matplotlib scipy"
   ]
  },
  {
   "cell_type": "markdown",
   "metadata": {},
   "source": [
    "Then import these libraries as local variables so we can keep calling them"
   ]
  },
  {
   "cell_type": "code",
   "execution_count": 15,
   "metadata": {
    "tags": []
   },
   "outputs": [],
   "source": [
    "import numpy as np\n",
    "from matplotlib import pyplot as plt"
   ]
  },
  {
   "cell_type": "markdown",
   "metadata": {},
   "source": [
    "Finally we simulate our light waves when taking an aerial view.        "
   ]
  },
  {
   "cell_type": "code",
   "execution_count": null,
   "metadata": {
    "tags": []
   },
   "outputs": [],
   "source": [
    "run CUSHIONS/1.1.py"
   ]
  },
  {
   "cell_type": "markdown",
   "metadata": {},
   "source": [
    "<p style=\"line-height: 1.7; font-family: Arial; font-size:1em;color:blue;\">The white areas are where the waves add to each other, and the grey areas are where waves overlap and cancel each other</p>\n",
    "\n",
    "<p style=\"line-height: 1.7; font-family: Arial; font-size:1em;color:blue;\">For another perspective now we can animate these waves in our water lab to see them move and interfer again<p>"
   ]
  },
  {
   "cell_type": "code",
   "execution_count": null,
   "metadata": {
    "tags": []
   },
   "outputs": [],
   "source": [
    "run CUSHIONS/1.2.py"
   ]
  },
  {
   "cell_type": "markdown",
   "metadata": {},
   "source": [
    "<p style=\"line-height: 1.7; font-family: Arial; font-size:1em;color:blue;\">We want you to see how when two waves come close to one another, their rise and fall add together. This is known as constructive interference. </p>\n",
    "\n",
    "<p style=\"line-height: 1.7; font-family: Arial; font-size:1em;color:blue;\">OurIn contrast, if the crest of two wave are working opposite, they would cancel out each other. This is known as destructive interference.</p>"
   ]
  },
  {
   "cell_type": "code",
   "execution_count": null,
   "metadata": {},
   "outputs": [],
   "source": [
    "from IPython.display import Image\n",
    "Image(\"CUSHIONS/1.2.gif\")"
   ]
  },
  {
   "cell_type": "markdown",
   "metadata": {},
   "source": [
    "<p style=\"line-height: 1.7; font-family: Arial; font-size:1em;color:blue;\">The concept of light as waves was first established in the Double Slit Experiment by Thomas Young in 1801, it suggested light travels in a wave-like pattern </p>"
   ]
  },
  {
   "cell_type": "code",
   "execution_count": null,
   "metadata": {},
   "outputs": [],
   "source": [
    "from IPython.display import Image\n",
    "Image(\"CUSHIONS/1.3.jpg\")"
   ]
  },
  {
   "cell_type": "markdown",
   "metadata": {},
   "source": [
    "When two waves come close to one another, their effects add together. This is known as constructive interference. In contrast, if the crest of two wave are on opposite, they would cancel out each other. This is known as destructive interference.\n",
    "$\\;$\n",
    "\n",
    "<p style=\"margin-left: 1.2em;line-height: 1; font-family: Arial; font-style: italic; font-size:0.7em;color:#c4c4c4;\"> Animation excerpt from \"What the Bleep: Down the Rabbit Hole\" </p>\n",
    "\n",
    "<p style=\"line-height: 1.7; font-family: Arial; font-size:1em;color:blue;\">This suggested light travels in a wave-like pattern as two light beams reinforced and cancelled each other, like the water waves do.</p>\n",
    "\n",
    "<div><img src=\"CUSHIONS/1.3.jpg\" width=\"450\"/></div>\n",
    "\n",
    "<p style=\"margin-left: 1.2em;line-height: 1; font-family: Arial; font-style: italic; font-size:0.7em;color:#c4c4c4;\"> The interference pattern observed by Young (Plate XXX, Fig. 442, A Course of Lectures on Natural Philosophy and the Mechanical Arts. Thomas Young, 1807). </p>\n",
    "\n",
    "<p style=\"line-height: 1.7; font-family: Arial; font-size:1em;color:green;\"> It may be that this interpretation is made to satisfy our reductionist tendency to explain a pretty phenomenon symmetrically? We like things to retain the same form, the same pattern across contexts.</p>\n",
    "\n",
    "<p style=\"line-height: 1.7; font-family: Arial; font-size:1em;color:green;\"> So we love to cherry-picking forms and set them as the 'true' representation.</p>\n",
    "\n",
    "Physics will often dodge metaphysical inquiry, claiming to be merely observing the world. Yet this concern sparks another question. \n",
    "\n",
    "We have one \"pretty\" discovery, but two. These have led to more mysteries.\n",
    "\n",
    "<p style=\"line-height: 1.7; font-family: Arial; font-size:1em;color:green;\">In order to see the second discovery, we zoom into our copper chair surface, going to the molecular level.</p>\n",
    "\n",
    "# 1.2 Light As Particles\n",
    "\n",
    "<p style=\"line-height: 1.7; font-family: Arial; font-size:1em;color:green;\">Here's our pretty glimpse of copper atom (Cu) model, where 29 electrons surrounding around a group of protons and neutrons: </p>\n",
    "\n",
    "<div><img src=\"CUSHIONS/1.4.png\" width=\"450\"/></div>\n",
    "<p style=\"margin-left: 1.2em;line-height: 1; font-family: Arial; font-style: italic; font-size:0.7em;color:#c4c4c4;\"> Image created by Carlos Clarivan </p>\n"
   ]
  },
  {
   "cell_type": "markdown",
   "metadata": {},
   "source": [
    "<p style=\"line-height: 1.7; font-family: Arial; font-size:1em;color:green;\">If we shoot light beam on any cooper atom, its 29 electrons would gradually escape the atom based on the energy intensity.</p>"
   ]
  },
  {
   "cell_type": "markdown",
   "metadata": {},
   "source": [
    "<p style=\"line-height: 1.7; font-family: Arial; font-size:1em;color:black;\"> But we know escape is not possible without a lot of energy. How does that even happen? </p>\n"
   ]
  },
  {
   "cell_type": "markdown",
   "metadata": {},
   "source": [
    "<p style=\"line-height: 1.7; font-family: Arial; font-size:1em;color:blue;\"> So how do we even unpack what's going on with light waves?</p>"
   ]
  },
  {
   "cell_type": "markdown",
   "metadata": {},
   "source": [
    "<p style=\"line-height: 1.7; font-family: Arial; font-size:1em;color:green;\">Or maybe.. if we imagine light waves hitting on the electron bit by bit with a standard metric, then we could potentially measure the action.</p>"
   ]
  },
  {
   "cell_type": "markdown",
   "metadata": {},
   "source": [
    "<p style=\"line-height: 1.7; font-family: Arial; font-size:1em;color:green;\"> I was thought that indicates light as particles instead of a continuous wave </p>\n"
   ]
  },
  {
   "cell_type": "markdown",
   "metadata": {},
   "source": [
    "<p style=\"line-height: 1.7; font-family: Arial; font-size:1em;color:black;\">So that was what was the explanation, the light particles: photons!<p>"
   ]
  },
  {
   "cell_type": "markdown",
   "metadata": {},
   "source": [
    "<p style=\"line-height: 1.7; font-family: Arial; font-size:1em;color:blue;\"> But still we ask how do the electrons escape? </p>"
   ]
  },
  {
   "cell_type": "markdown",
   "metadata": {},
   "source": [
    "<p style=\"line-height: 1.7; font-family: Arial; font-size:1em;color:green;\">First, light particles, or photons, hit on the electron.<p>\n",
    "\n",
    "<div><img src=\"CUSHIONS/1.5.png\" width=\"225\"/></div>\n",
    "<p style=\"margin-left: 1.2em;line-height: 1; font-family: Arial; font-style: italic; font-size:0.7em;color:#c4c4c4;\"> Image source: Khan Academy </p>\n",
    "\n",
    "<p style=\"line-height: 1.7; font-family: Arial; font-size:1em;color:green;\">Second, more electrons escape their atomic position as light frequency increased. Escaped electrons are known as photoelectron.</p>\n",
    "\n",
    "<div><img src=\"CUSHIONS/1.6.png\" width=\"450\"/></div>\n",
    "<p style=\"margin-left: 1.2em;line-height: 1; font-family: Arial; font-style: italic; font-size:0.7em;color:#c4c4c4;\"> Image source: Khan Academy </p>\n"
   ]
  },
  {
   "cell_type": "markdown",
   "metadata": {},
   "source": [
    "<p style=\"line-height: 1.7; font-family: Arial; font-size:1em;color:black;\"> So how do we know this is what is happening?  </p>\n",
    "\n",
    "<p style=\"line-height: 1.7; font-family: Arial; font-size:1em;color:blue;\">Suppose there is a positive relationship between light frequency and photoelectrons, then we could actually measure it!<p>\n",
    "\n",
    "<p style=\"line-height: 1.7; font-family: Arial; font-size:1em;color:green;\"> If photon energy has a discrete feature like numbers on rulers or clocks, what kind of unit can we use? </p>\n",
    "\n",
    "<p style=\"line-height: 1.7; font-family: Arial; font-size:1em;color:black;\">Yes light energy has a discrete feature, we can use the Plank's constant $h$, which is related to the energy in one photon of electromagnetic radiation to the frequency of that radiation:</p>\n",
    "\n",
    "$$ E =hv $$\n",
    "\n",
    "*Energy of photon = Plank's constant x frequency (amplitude passing a measured point)*\n",
    "\n",
    "This formula can be used for calculating out the energy threshold for photons to create photoelectrons, also known as the work function. \n",
    "\n",
    "<p style=\"line-height: 1.7; font-family: Arial; font-size:1em;color:black;\">We will now use Scipy for scientific computing in Python language. </p>\n",
    "    \n",
    "<p style=\"line-height: 1.7; font-family: Arial; font-size:1em;color:green;\">First, we will reveal some physical contants relating photons, electrons and photoelectrons</p>"
   ]
  },
  {
   "cell_type": "code",
   "execution_count": null,
   "metadata": {
    "tags": []
   },
   "outputs": [],
   "source": [
    "run CUSHIONS/1.4.py"
   ]
  },
  {
   "cell_type": "markdown",
   "metadata": {},
   "source": [
    "<p style=\"line-height: 1.7; font-family: Arial; font-size:1em;color:green;\">We can now calculate the ejected electron’s kinetic energy to find the required energy level to create photoelectrons from copper:</p>\n",
    "\n",
    "<p style=\"line-height: 1.7; font-family: Arial; font-size:1em;color:green;\">$$KEe = hf − BE$$</p>\n",
    "\n",
    "<p style=\"line-height: 1.7; font-family: Arial; font-size:1em;color:green;\">*Maximum kinetic energy of the ejected electron = photon’s energy - work fucntion (binding energy of the electron to the particular material)*<p>"
   ]
  },
  {
   "cell_type": "code",
   "execution_count": null,
   "metadata": {
    "tags": []
   },
   "outputs": [],
   "source": [
    "run CUSHIONS/1.5.py"
   ]
  },
  {
   "cell_type": "markdown",
   "metadata": {},
   "source": [
    "<p style=\"line-height: 1.7; font-family: Arial; font-size:1em;color:green;\">We can compare this simulation with experiment to verify the particle entity of photons.<p>\n",
    "<p style=\"line-height: 1.7; font-family: Arial; font-size:1em;color:green;\"></p>\n",
    "\n",
    "# Thoughts\n",
    "- <p style=\"line-height: 1.7; font-family: Arial; font-size:1em;color:blue;\">Light as waves - double slit experiment</p>\n",
    "- <p style=\"line-height: 1.7; font-family: Arial; font-size:1em;color:green;\">Light as particles - photoelectic effect and work function</p>"
   ]
  }
 ],
 "metadata": {
  "interpreter": {
   "hash": "5edc29c2ed010d6458d71a83433b383a96a8cbd3efe8531bc90c4b8a5b8bcec9"
  },
  "kernelspec": {
   "display_name": "Python 3",
   "language": "python",
   "name": "python3"
  },
  "language_info": {
   "codemirror_mode": {
    "name": "ipython",
    "version": 3
   },
   "file_extension": ".py",
   "mimetype": "text/x-python",
   "name": "python",
   "nbconvert_exporter": "python",
   "pygments_lexer": "ipython3",
   "version": "3.9.5"
  }
 },
 "nbformat": 4,
 "nbformat_minor": 4
}
