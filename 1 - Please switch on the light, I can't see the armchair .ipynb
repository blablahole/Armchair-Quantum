{
 "cells": [
  {
   "cell_type": "markdown",
   "metadata": {},
   "source": [
    "# 1.0 Narrators\n",
    "Tour Guide in Black Text\n",
    "<p style=\"line-height: 1; font-family: Arial; font-size:1em;color:blue;\"> Tourist in Blue Text</p>\n",
    "\n",
    "\n",
    "# 1.1 Light As Waves\n",
    "\n",
    "We have created a space for you to engage with quantum phenonmenon. In this room, hit `shift` + `enter` twice to start exploring."
   ]
  },
  {
   "cell_type": "code",
   "execution_count": null,
   "metadata": {},
   "outputs": [],
   "source": [
    "from IPython.display import Image\n",
    "Image(\"CUSHIONS/1.0.png\")"
   ]
  },
  {
   "cell_type": "markdown",
   "metadata": {},
   "source": [
    "This is a mini copper chair but the back supports are 3 mm apart, this makes the effect on the light \n",
    "\n",
    "<p style=\"line-height: 1.7; font-family: Arial; font-size:1em;color:blue;\"> But that's not an armchair </p>\n",
    "\n",
    "We have not found our armchair yet to relax. But we can lessen the light by hitting `shift` + `enter` again to  focus on the chair bars\n",
    "\n",
    "That is how we will move through this story"
   ]
  },
  {
   "cell_type": "code",
   "execution_count": null,
   "metadata": {},
   "outputs": [],
   "source": [
    "Image(\"CUSHIONS/1.1.png\")"
   ]
  },
  {
   "cell_type": "markdown",
   "metadata": {},
   "source": [
    "Our original  two light bars are replaced by many light bars on the wall. These form a wave-like pattern where the two light bars now interfere with each other.\n",
    "You can simulate how the light waves interfere each other with Python programming language:\n",
    "1. We will install numpy for numeric calculation and matplotlib for data visualisation."
   ]
  },
  {
   "cell_type": "code",
   "execution_count": null,
   "metadata": {},
   "outputs": [],
   "source": [
    "pip install numpy matplotlib"
   ]
  },
  {
   "cell_type": "markdown",
   "metadata": {},
   "source": [
    "2. Then import these libraries as local variablesk"
   ]
  },
  {
   "cell_type": "code",
   "execution_count": 3,
   "metadata": {},
   "outputs": [],
   "source": [
    "import numpy as np\n",
    "from matplotlib import pyplot as plt"
   ]
  },
  {
   "cell_type": "markdown",
   "metadata": {},
   "source": [
    "3. Let's simulate light waves taking an aerial view.        "
   ]
  },
  {
   "cell_type": "code",
   "execution_count": null,
   "metadata": {},
   "outputs": [],
   "source": [
    "run CUSHIONS/1.1.py"
   ]
  },
  {
   "cell_type": "markdown",
   "metadata": {},
   "source": [
    "The white areas are where the waves add to each other, \n",
    "the grey areas are where waves overlap and cancel each other\n",
    "\n",
    "4. Let's animate these waves in our water lab"
   ]
  },
  {
   "cell_type": "code",
   "execution_count": null,
   "metadata": {},
   "outputs": [],
   "source": [
    "run CUSHIONS/1.2.py"
   ]
  },
  {
   "cell_type": "markdown",
   "metadata": {},
   "source": [
    "If overlapped emissions are more concentrated than other parts, would they cause denser hit for projected targets?[not sure what you mean]\n",
    "$\\;$\n",
    "<div><img src=\"CUSHIONS/1.2.gif\" width=\"450\"/></div>\n",
    "\n",
    "<p style=\"margin-left: 1.2em;line-height: 1; font-family: Arial; font-style: italic; font-size:0.7em;color:#c4c4c4;\"> Animation excerpt from \"What the Bleep: Down the Rabbit Hole\" </p>\n",
    "\n",
    "The concept of light as waves was first established in the Double Slit Experiment by Thomas Young in 1801, it suggested light travels in a wave-like pattern \n",
    "\n",
    "<div><img src=\"CUSHIONS/1.3.jpg\" width=\"450\"/></div>\n",
    "\n",
    "<p style=\"margin-left: 1.2em;line-height: 1; font-family: Arial; font-style: italic; font-size:0.7em;color:#c4c4c4;\"> The interference pattern observed by Young (Plate XXX, Fig. 442, A Course of Lectures on Natural Philosophy and the Mechanical Arts. Thomas Young, 1807). </p>\n",
    "\n",
    "<p style=\"line-height: 1.7; font-family: Arial; font-size:1em;color:blue;\"> Ah, you wonder if this interpretation is made to satisfy our reductionist tendency to explain pretty phenomenon symmetrically? </p>\n",
    "\n",
    "<p style=\"line-height: 1.7; font-family: Arial; font-size:1em;color:blue;\"> Like how we love to cherry-picking forms and set them as the 'true' representation.</p>\n",
    "\n",
    "Normally physicists would dodge metaphysical inquiry, but your question actually sparks something another question. \n",
    "\n",
    "Not one \"pretty\" discovery, but two, which have led to more mysteries.\n",
    "\n",
    "In order to see the second discovery, we zoom into our copper chair surface, going to the molecular level.\n",
    "\n",
    "# 1.2 Light As Particles\n",
    "\n",
    "Here's our pretty glimpse of cooper atom (Cu) model, where 29 electrons surrounding around a bunch of protons and neutrons: \n",
    "\n",
    "<div><img src=\"CUSHIONS/1.4.png\" width=\"450\"/></div>\n",
    "<p style=\"margin-left: 1.2em;line-height: 1; font-family: Arial; font-style: italic; font-size:0.7em;color:#c4c4c4;\"> Image created by Carlos Clarivan </p>\n"
   ]
  },
  {
   "cell_type": "markdown",
   "metadata": {},
   "source": [
    "If we shoot light beam on any cooper atom, its 29 electrons would gradually escape the atom based on the energy intensity."
   ]
  },
  {
   "cell_type": "markdown",
   "metadata": {},
   "source": [
    "<p style=\"line-height: 1.7; font-family: Arial; font-size:1em;color:blue;\"> Escape? How does that even happen? </p>\n"
   ]
  },
  {
   "cell_type": "markdown",
   "metadata": {},
   "source": [
    "I know, how do we even unpack what's going on with light waves?"
   ]
  },
  {
   "cell_type": "markdown",
   "metadata": {},
   "source": [
    "Or maybe.. if we imagine light waves hitting on the electron bit by bit with a standard metric, then we could potentially measure the action."
   ]
  },
  {
   "cell_type": "markdown",
   "metadata": {},
   "source": [
    "<p style=\"line-height: 1.7; font-family: Arial; font-size:1em;color:blue;\"> Does that indicates light as particles instead of continuous? </p>\n"
   ]
  },
  {
   "cell_type": "markdown",
   "metadata": {},
   "source": [
    "Congradulations you just (re-)discovered light particles: photons!"
   ]
  },
  {
   "cell_type": "markdown",
   "metadata": {},
   "source": [
    "<p style=\"line-height: 1.7; font-family: Arial; font-size:1em;color:blue;\"> Ok I'm getting impatient just tell me how electrons escape. </p>"
   ]
  },
  {
   "cell_type": "markdown",
   "metadata": {},
   "source": [
    "First, light particles, or photons, hit on the electron.\n",
    "\n",
    "<div><img src=\"CUSHIONS/1.5.png\" width=\"225\"/></div>\n",
    "<p style=\"margin-left: 1.2em;line-height: 1; font-family: Arial; font-style: italic; font-size:0.7em;color:#c4c4c4;\"> Image source: Khan Academy </p>\n",
    "\n",
    "Second, more electrons escape their atomic position as light frequency increased. Escaped electrons are known as photoelectron.\n",
    "\n",
    "<div><img src=\"CUSHIONS/1.6.png\" width=\"450\"/></div>\n",
    "<p style=\"margin-left: 1.2em;line-height: 1; font-family: Arial; font-style: italic; font-size:0.7em;color:#c4c4c4;\"> Image source: Khan Academy </p>\n"
   ]
  },
  {
   "cell_type": "markdown",
   "metadata": {},
   "source": [
    "<p style=\"line-height: 1.7; font-family: Arial; font-size:1em;color:blue;\"> I mean, how do we know?  </p>\n",
    "\n",
    "If there is a positive relationship between light frequency and photoelectrons, then we could actually measure it!\n",
    "\n",
    "<p style=\"line-height: 1.7; font-family: Arial; font-size:1em;color:blue;\"> If photon energy has a discrete feature like numbers on rulers or clocks, what kind of unit can we use? </p>\n",
    "\n",
    "\n",
    "Bingo! Light energy has a discrete feature, we can use the plank's constant $h$, which is related to the energy in one photon of electromagnetic radiation to the frequency of that radiation:\n",
    "\n",
    "$$ E =hv $$\n",
    "\n",
    "*Energy of photon = Plank's constant x frequency (amplitude passing a measured point)*\n",
    "\n",
    "This formula can be used for calculating out the energy threshold for photons to create photoelectrons, also known as the work funciton. \n",
    "\n",
    "We will use Scipy for scientific computing in Python language. First, we will reveal some physical contants:"
   ]
  },
  {
   "cell_type": "code",
   "execution_count": null,
   "metadata": {},
   "outputs": [],
   "source": [
    "run CUSHIONS/1.4.py"
   ]
  },
  {
   "cell_type": "markdown",
   "metadata": {},
   "source": [
    "Then we can calculate the ejected electron’s kinetic energy to find the required energy level to create photoelectrons from copper:\n",
    "\n",
    "$$KEe = hf − BE$$\n",
    "\n",
    "*Maximum kinetic energy of the ejected electron = photon’s energy - work fucntion (binding energy of the electron to the particular material)*"
   ]
  },
  {
   "cell_type": "code",
   "execution_count": null,
   "metadata": {},
   "outputs": [],
   "source": [
    "run CUSHIONS/1.5.py"
   ]
  },
  {
   "cell_type": "markdown",
   "metadata": {},
   "source": [
    "You may compare this simulation with experiment to verify the particle entity of photons.\n",
    "# Thoughts\n",
    "\n",
    "- Light as waves - double slit experiment\n",
    "- Light as particles - photoelectic effect and work function"
   ]
  }
 ],
 "metadata": {
  "interpreter": {
   "hash": "5edc29c2ed010d6458d71a83433b383a96a8cbd3efe8531bc90c4b8a5b8bcec9"
  },
  "kernelspec": {
   "display_name": "Python 3",
   "language": "python",
   "name": "python3"
  },
  "language_info": {
   "codemirror_mode": {
    "name": "ipython",
    "version": 3
   },
   "file_extension": ".py",
   "mimetype": "text/x-python",
   "name": "python",
   "nbconvert_exporter": "python",
   "pygments_lexer": "ipython3",
   "version": "3.9.5"
  }
 },
 "nbformat": 4,
 "nbformat_minor": 4
}
