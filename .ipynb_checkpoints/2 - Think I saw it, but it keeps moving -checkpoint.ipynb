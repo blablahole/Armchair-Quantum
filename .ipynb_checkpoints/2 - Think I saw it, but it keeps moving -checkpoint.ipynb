{
 "cells": [
  {
   "cell_type": "markdown",
   "id": "prime-pontiac",
   "metadata": {},
   "source": [
    "# 2.1 Electron As Waves \n",
    "\n",
    "<p style=\"line-height: 1.7; font-family: Arial; font-size:1em;color:blue;\"> But when we talk about a light \"wave\", is it the same mechanic that creates a water wave patten? </p>\n",
    "\n",
    "It's only an interpretation that derives from the first double slit experiment of light. In 1923, Louis de Broglie was inspired by the debate of particle and wave and deduce electron also display wave characteristics:\n",
    "\n",
    "<center>Wavelength of Electron = Plank's Constant / Mass x Velocity = Plank's Constant / Momentum of Electron </center>\n",
    "\n",
    "$$ λ = h / mv = h / p$$\n",
    "\n",
    "<p style=\"line-height: 1.7; font-family: Arial; font-size:1em;color:green;\"> How do we know electrons display wave nature? </p>\n",
    "\n",
    "<p style=\"line-height: 1.7; font-family: Arial; font-size:1em;color:blue;\">We could actually re-use the double slit experiment and shoot through electrons! In order to understand more about the waves representation of particles, we would shoot electron through one by one and see what happens:</p>\n"
   ]
  },
  {
   "cell_type": "code",
   "execution_count": null,
   "id": "egyptian-stewart",
   "metadata": {},
   "outputs": [],
   "source": [
    "from IPython.display import Image\n",
    "Image(\"CUSHIONS/2.1.gif\")"
   ]
  },
  {
   "cell_type": "markdown",
   "id": "distributed-pattern",
   "metadata": {},
   "source": [
    "from IPython.display import Image\n",
    "Image(\"CUSHIONS/2.1.png\")<p style=\"margin-left: 1.2em;line-height: 1; font-family: Arial; font-style: italic; font-size:0.7em;color:#c4c4c4;\"> Double Slit Experiment with electron by Physics Footnotes. Retrived from http://PhysicsFootnotes.com  </p>\n"
   ]
  },
  {
   "cell_type": "markdown",
   "id": "clear-survivor",
   "metadata": {},
   "source": [
    "<p style=\"line-height: 1.7; font-family: Arial; font-size:1em;color:black;\"> So do electrons and photons both display a wave and particle nature?</p>\n",
    "\n",
    "<p style=\"line-height: 1.7; font-family: Arial; font-size:1em;color:blue;\">Electrons going through the double slit one by one show a wave pattern</p>\n",
    "\n",
    "<p style=\"line-height: 1.7; font-family: Arial; font-size:1em;color:green;\">But quantum phenonmenon does not halt here, it gets intruiging when we want to measure which slit the electron or photon particle passed through.\n",
    "\n",
    "<p style=\"line-height: 1.7; font-family: Arial; font-size:1em;color:blue;\">Once we put on detectors, the wave patterns are replaced by two bars on projection screens, which fits the description of particle trajectory.<p>\n"
   ]
  },
  {
   "cell_type": "markdown",
   "id": "divine-separation",
   "metadata": {},
   "source": [
    "<div><img src=\"CUSHIONS/2.2.jpg\" width=\"450\"/></div>\n",
    "\n",
    "<p style=\"margin-left: 1.2em;line-height: 1; font-family: Arial; font-style: italic; font-size:0.7em;color:#c4c4c4;\"> Double Slit Experiment with electron.  </p>\n"
   ]
  },
  {
   "cell_type": "markdown",
   "id": "chief-gilbert",
   "metadata": {},
   "source": [
    "<p style=\"line-height: 1.7; font-family: Arial; font-size:1em;color:black;\"> How did adding detectors at the slit change electrons from wave to particles? </p>\n",
    "\n",
    "<p style=\"line-height: 1.7; font-family: Arial; font-size:1em;color:blue;\">The most popular explanation comes from the Copenhagan Interpretation, where the experiment results depend on how we measure them. </p>\n",
    "\n",
    "<p style=\"line-height: 1.7; font-family: Arial; font-size:1em;color:blue;\">There is a complementarity principle where you can't observe wave and particle at the same time, just like blind men and the elephant.</p>\n",
    "\n",
    "<div><img src=\"CUSHIONS/2.3.png\" width=\"450\"/></div>\n"
   ]
  },
  {
   "cell_type": "markdown",
   "id": "certain-repeat",
   "metadata": {},
   "source": [
    "# 2.2 Momentum Or Position"
   ]
  },
  {
   "cell_type": "markdown",
   "id": "mighty-microphone",
   "metadata": {},
   "source": [
    "<p style=\"line-height: 1.7; font-family: Arial; font-size:1em;color:black;\"> So if we can't have particles and wave patterns at the same time, it would mean quantum physics is intrinsically incomplete to observation </p>\n",
    "\n",
    "At least we can predict when will electrons act like particles or waves, but the true uncertainty lies in another types of measurement.\n",
    "\n",
    "When we try to conceptualise a system, it is the best practice to capture all presented details. \n",
    "\n",
    "But apparently we can't capture all information of a particle when two metrics are imposed:"
   ]
  },
  {
   "cell_type": "markdown",
   "id": "accompanied-moisture",
   "metadata": {},
   "source": [
    "Position of a particle:\n",
    "\n",
    "$${ x }$$\n",
    "\n",
    "Momentum of a particle:\n",
    "\n",
    "$${\\rho }$$\n",
    "\n",
    "Uncertainty in position:\n",
    "\n",
    "$${ \\sigma }_{ x }$$\n",
    "\n",
    "Uncertainty in momentum:\n",
    "\n",
    "$${ \\sigma }_{\\rho }$$"
   ]
  },
  {
   "cell_type": "markdown",
   "id": "assigned-washington",
   "metadata": {},
   "source": [
    "Measuring position of a particle would sacrafice its accurate data of momentum:\n",
    "<div><img src=\"CUSHIONS/2.7.gif\" width=\"450\"/></div>"
   ]
  },
  {
   "cell_type": "markdown",
   "id": "narrow-blame",
   "metadata": {},
   "source": [
    "The complete rule stipulates that the product of the uncertainties in position and velocity is equal to or greater than a tiny physical quantity, or constant (h/(4π), where h is Planck’s constant, or about 6.6 × 10−34 joule-second):\n",
    "\n",
    "$$ { \\sigma }_{ x }{ \\sigma }_{\\rho }\\quad\\ge\\quad\\frac{ \\hbar }{ 2 } $$"
   ]
  },
  {
   "cell_type": "markdown",
   "id": "scenic-patent",
   "metadata": {},
   "source": [
    "The principle also applies to time-energy measurement where time is written as t and energy as E:\n",
    "\n",
    "$$ { \\sigma }_{ t }{ \\sigma }_{ E }\\quad\\ge\\quad\\frac{ \\hbar }{ 2 } $$"
   ]
  },
  {
   "cell_type": "markdown",
   "id": "blessed-collaboration",
   "metadata": {},
   "source": [
    "# 2.3 Wave As Probability \n",
    "\n",
    "<p style=\"line-height: 1.7; font-family: Arial; font-size:1em;color:blue;\"> When we say electrons having wave properties, this is commersable to water wave or wave on an ocilating string </p>\n",
    "\n",
    "<p style=\"line-height: 1.7; font-family: Arial; font-size:1em;color:blue;\">In order to describe the wave of electron</p>\n",
    "\n",
    "<p style=\"line-height: 1.7; font-family: Arial; font-size:1em;color:blue;\">1. We can use the Psi symbol to denote the wave function, or the parameter that change the probability of where the electron would appear:</p>\n",
    "\n",
    "$$\\Psi$$\n",
    "\n",
    "<p style=\"line-height: 1.7; font-family: Arial; font-size:1em;color:blue;\">2. Different wave function x can be denoted as:</p>\n",
    "\n",
    "$$\\Psi (x)$$\n",
    "\n",
    "<p style=\"line-height: 1.7; font-family: Arial; font-size:1em;color:blue;\">3. Different wave function would represent different patterns:</p>\n",
    "\n",
    "<div><img src=\"CUSHIONS/2.4.gif\" width=\"450\"/></div>\n",
    "<p style=\"margin-left: 1.2em;line-height: 1; font-family: Arial; font-style: italic; font-size:0.7em;color:#c4c4c4;\"> Wave function from wikipedia.  </p>\n"
   ]
  },
  {
   "cell_type": "markdown",
   "id": "manufactured-headset",
   "metadata": {},
   "source": [
    "<p style=\"line-height: 1.7; font-family: Arial; font-size:1em;color:green;\">4. The above string wave represent the probability of where the electron could position</p>\n",
    "\n",
    "<div><img src=\"CUSHIONS/2.5.gif\" width=\"450\"/></div>\n",
    "<p style=\"margin-left: 1.2em;line-height: 1; font-family: Arial; font-style: italic; font-size:0.7em;color:#c4c4c4;\"> Wave function visualisation by Eugene Khutoryansky  </p>\n",
    "\n",
    "<p style=\"line-height: 1.7; font-family: Arial; font-size:1em;color:green;\">5. The probability of where the electron position within the wave function change over time <p>\n",
    "\n",
    "<div><img src=\"CUSHIONS/2.6.gif\" width=\"450\"/></div>\n",
    "<p style=\"margin-left: 1.2em;line-height: 1; font-family: Arial; font-style: italic; font-size:0.7em;color:#c4c4c4;\"> Wave function visualisation by Eugene Khutoryansky  </p>\n",
    "\n",
    "6. As it is only possible to predict the probability, we can use the Hamiltonian symbol to represent the total energy of a system, which is the sum of kinetic and potential energy operator:\n",
    "\n",
    "$$\\hat{\\mathcal{H}} \\quad =\\quad \\hat{\\mathcal{T}} \\quad+ \\quad\\hat{\\mathcal{V}}$$\n",
    "\n",
    "    *Total energy of a quantum system = kinetic energy operator + potential energy operator*\n"
   ]
  },
  {
   "cell_type": "markdown",
   "id": "concerned-reliance",
   "metadata": {},
   "source": [
    "7. As kinetic energy is denoted as:\n",
    "\n",
    "$$ \\hat{\\mathcal{T}} \\quad = \\quad\\frac{Momentem^2}{2(Mass)} \\quad =\\quad\\frac{\\hat{\\mathcal{p}}}{2m} $$ \n",
    "\n",
    "    and \n",
    "\n",
    "$$ \\hat{\\mathcal{p}} \\quad = \\quad\\frac{Plank's Constant}{Complex Number} \\frac{Derivetive}{Derivetive x} \\quad = \\quad\\frac{\\hbar}{i} \\frac{\\partial}{\\partial x} $$"
   ]
  },
  {
   "cell_type": "markdown",
   "id": "residential-street",
   "metadata": {},
   "source": [
    "8. Once these physical relations are reformulated, we aquire an equation that describes where you can possibily (wave function) find small particles (electrons etc.), and specifies how these waves are altered by external influences.\n",
    "\n",
    "    We could add the coordination and time period for the measurement, including the function of all the spatial coordinate(s) of the particle(s):\n",
    "\n",
    "$$ SpatialCoordinates \\quad=\\quad \\Psi (\\mathbf{r}) $$\n",
    "    \n",
    "    And time:\n",
    "    \n",
    "$$ Time \\quad=\\quad t $$\n",
    "\n",
    "    Together we have:\n",
    "\n",
    "$$ i \\hbar \\frac{\\partial}{\\partial t}\\Psi(\\mathbf{r},t) \\quad=\\quad \\hat H \\Psi(\\mathbf{r},t) $$\n",
    "\n",
    "    It is also known as the Schrodinger Equation."
   ]
  },
  {
   "cell_type": "markdown",
   "id": "separate-tonight",
   "metadata": {},
   "source": [
    "# Thoughts\n",
    "\n",
    "- Observing particles as matter or wave depending on measurement method\n",
    "\n",
    "- <p style=\"line-height: 1.7; font-family: Arial; font-size:1em;color:green;\"> Sub-atomic particles cannot be measured position-momentum and energy-time at the same time</p>\n",
    "- <p style=\"line-height: 1.7; font-family: Arial; font-size:1em;color:blue;\"> Wave function is used for predicting the probability of where the particle may be positioned </p>"
   ]
  }
 ],
 "metadata": {
  "kernelspec": {
   "display_name": "Python 3",
   "language": "python",
   "name": "python3"
  },
  "language_info": {
   "codemirror_mode": {
    "name": "ipython",
    "version": 3
   },
   "file_extension": ".py",
   "mimetype": "text/x-python",
   "name": "python",
   "nbconvert_exporter": "python",
   "pygments_lexer": "ipython3",
   "version": "3.9.5"
  }
 },
 "nbformat": 4,
 "nbformat_minor": 5
}
