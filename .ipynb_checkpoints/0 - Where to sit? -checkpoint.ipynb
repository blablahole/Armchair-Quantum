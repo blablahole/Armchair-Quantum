{
 "cells": [
  {
   "cell_type": "markdown",
   "id": "84ddc533-131c-48c1-82c6-774a2186c563",
   "metadata": {
    "tags": []
   },
   "source": [
    "<div><img src=\"CUSHIONS/0.1.jpg\" width=\"450\"/></div>\n",
    "\n",
    "# 0.0 Why are we learning quantum computational chemistry?\n",
    "\n",
    "In early stage development, quantum computers are built for specialised calculations. As quantum computer hardware are designed disparately to classical computers, it is essential for programmers to understand the fundamental of quantum physics and chemistry in order to make sense of developing better algorithms. \n",
    "\n",
    "Out of various quantum computer applications, such as quantum AI, quantum optics, and financial analysis, using quantum computing for chemical simulation is amongst the most suitable to establish solid foundation for knowledge building. It is due to the fundamental principle of quantum computing is ruled by quantum physics and chemical behavior, where understanding quantum computing can directly apply on advance chemical simulation.\n",
    "\n",
    "This learning notebook is designed for learners from all backgrounds. Our aim is to engage with those with zero technical experience and provide a roadmap to quantum computing and chemical simulation. Yet, we cannot progress and improve without your valuable feedback, do reach out!"
   ]
  },
  {
   "cell_type": "markdown",
   "id": "8a40b7b5-1abc-47c0-b5a5-32234e802189",
   "metadata": {},
   "source": [
    "# 0.1 Map of what we are learning?"
   ]
  },
  {
   "cell_type": "code",
   "execution_count": 4,
   "id": "fbf863d8-e2a5-45f4-b70d-35d0773d5f50",
   "metadata": {},
   "outputs": [
    {
     "data": {
      "text/html": [
       "<iframe width=\"800\" height=\"450\" src=\"https://miro.com/app/live-embed/o9J_l4ZB7GA=/?moveToViewport=-5227,-1012,9386,4643\" frameBorder=\"0\" scrolling=\"no\" allowFullScreen></iframe>\n"
      ],
      "text/plain": [
       "<IPython.core.display.HTML object>"
      ]
     },
     "metadata": {},
     "output_type": "display_data"
    }
   ],
   "source": [
    "%%html\n",
    "<iframe width=\"800\" height=\"450\" src=\"https://miro.com/app/live-embed/o9J_l4ZB7GA=/?moveToViewport=-5227,-1012,9386,4643\" frameBorder=\"0\" scrolling=\"no\" allowFullScreen></iframe>"
   ]
  },
  {
   "cell_type": "markdown",
   "id": "25f3155e-a927-4e5d-b2aa-c50e4c7a4183",
   "metadata": {},
   "source": [
    "# 0.2 Narrators\n",
    "<div style=\"text-align:left;\" ><div style=\"color:black;white-space: nowrap; display:inline;\"> All tutorials will be guided by three narrative guides documented in Black text for the armchair assistant, </div> <div style=\"color:blue;white-space: nowrap;overflow: hidden; display:inline;\n",
    "text-overflow: ellipsis;\"> Blue text from the armchair commentator,</div> <div style=\"color:green;white-space: nowrap; display:inline;\"> and Green text from the armchair consultant.</div>\n",
    "</div>\n",
    "<p></p>"
   ]
  }
 ],
 "metadata": {
  "kernelspec": {
   "display_name": "Python 3",
   "language": "python",
   "name": "python3"
  },
  "language_info": {
   "codemirror_mode": {
    "name": "ipython",
    "version": 3
   },
   "file_extension": ".py",
   "mimetype": "text/x-python",
   "name": "python",
   "nbconvert_exporter": "python",
   "pygments_lexer": "ipython3",
   "version": "3.9.5"
  },
  "toc-autonumbering": false,
  "toc-showcode": false,
  "toc-showmarkdowntxt": false
 },
 "nbformat": 4,
 "nbformat_minor": 5
}
