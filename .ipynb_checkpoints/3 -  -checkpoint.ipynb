{
 "cells": [
  {
   "cell_type": "markdown",
   "id": "1eb7bc3f-91e6-45db-a320-e128ad4a6500",
   "metadata": {},
   "source": [
    "# 3.1 Light Spectrum"
   ]
  },
  {
   "cell_type": "markdown",
   "id": "b7cb7eea-8f25-4347-b917-0a53ddd41245",
   "metadata": {},
   "source": [
    "# 3.2 Qubits"
   ]
  },
  {
   "cell_type": "code",
   "execution_count": 14,
   "id": "ce43fd22-ea0a-4881-9ad7-0017778ee96f",
   "metadata": {},
   "outputs": [],
   "source": [
    "%%capture\n",
    "pip install git+https://github.com/qiskit-community/qiskit-textbook.git#subdirectory=qiskit-textbook-src"
   ]
  },
  {
   "cell_type": "code",
   "execution_count": 21,
   "id": "6590bb8f-d5a1-498c-94e4-f7f3afc693ef",
   "metadata": {},
   "outputs": [],
   "source": [
    "%%capture\n",
    "pip install numexpr scipy"
   ]
  },
  {
   "cell_type": "code",
   "execution_count": null,
   "id": "cff0c862-33ea-43d5-9369-c6f9c5b28ee4",
   "metadata": {},
   "outputs": [],
   "source": [
    "import scipy\n",
    "from qiskit_textbook.widgets import plot_bloch_vector_spherical\n",
    "coords = [scipy.pi/2,0,1] # [Theta, Phi, Radius]\n",
    "plot_bloch_vector_spherical(coords) # Bloch Vector with spherical coordinates\n"
   ]
  },
  {
   "cell_type": "markdown",
   "id": "88477001-eb0c-4d5f-aacf-1e2d695393b2",
   "metadata": {},
   "source": [
    "# 3.3 Quantum Gate"
   ]
  }
 ],
 "metadata": {
  "kernelspec": {
   "display_name": "Python 3",
   "language": "python",
   "name": "python3"
  },
  "language_info": {
   "codemirror_mode": {
    "name": "ipython",
    "version": 3
   },
   "file_extension": ".py",
   "mimetype": "text/x-python",
   "name": "python",
   "nbconvert_exporter": "python",
   "pygments_lexer": "ipython3",
   "version": "3.9.5"
  }
 },
 "nbformat": 4,
 "nbformat_minor": 5
}
