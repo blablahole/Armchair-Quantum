{
 "cells": [
  {
   "cell_type": "markdown",
   "id": "4292f127",
   "metadata": {},
   "source": [
    "# 2.1 Electron As Waves \n",
    "\n",
    "<p style=\"line-height: 1.7; font-family: Arial; font-size:1em;color:blue;\"> But when we talk about light \"wave\", is it the same mechanic that create water wave patten? </p>\n",
    "\n",
    "It's only an interpretation derives from the first double slit experiment of light. In 1923, Louis de Broglie was inspired by the debate of particle and wave and deduce electron also display wave characteristic:\n",
    "\n",
    "$$ λ = h / mv = h / p$$\n",
    "\n",
    "*Wavelength of Electron = Plank's Constant / Mass x Velocity = Plank's Constant / Momentum of Electron*\n",
    "\n",
    "<p style=\"line-height: 1.7; font-family: Arial; font-size:1em;color:blue;\"> How do we know electrons display wave nature? </p>\n",
    "\n",
    "We could actually re-use the double slit experiment and shoot through electrons! In order to understand more about the nature of wave, we would shoot electron through one by one:"
   ]
  },
  {
   "cell_type": "markdown",
   "id": "a01c4ce8",
   "metadata": {},
   "source": [
    "<div><img src=\"CUSHIONS/2.1.gif\" width=\"450\"/></div>\n",
    "\n",
    "<p style=\"margin-left: 1.2em;line-height: 1; font-family: Arial; font-style: italic; font-size:0.7em;color:#c4c4c4;\"> Double Slit Experiment with electron by Physics Footnotes. Retrived from http://PhysicsFootnotes.com  </p>\n"
   ]
  },
  {
   "cell_type": "markdown",
   "id": "92760f0c",
   "metadata": {},
   "source": [
    "<p style=\"line-height: 1.7; font-family: Arial; font-size:1em;color:blue;\"> It's interesting how electron and photon both display nature in waves and particles </p>\n",
    "\n",
    "But quantum phenonmenon does not halt here, it gets intruiging when we want to measure which slit the electron or photon passed through.\n",
    "\n",
    "Once we put on detectors, the wave patterns are replaced by two bars on projection screens, which fits in the description of particles trajectory."
   ]
  },
  {
   "cell_type": "markdown",
   "id": "cb08559a",
   "metadata": {},
   "source": [
    "<div><img src=\"CUSHIONS/2.2.jpg\" width=\"450\"/></div>\n",
    "\n",
    "<p style=\"margin-left: 1.2em;line-height: 1; font-family: Arial; font-style: italic; font-size:0.7em;color:#c4c4c4;\"> Double Slit Experiment with electron.  </p>\n"
   ]
  },
  {
   "cell_type": "markdown",
   "id": "af20a889",
   "metadata": {},
   "source": [
    "<p style=\"line-height: 1.7; font-family: Arial; font-size:1em;color:blue;\"> How did adding detectors at the slit change electrons from wave to particles? </p>\n",
    "\n",
    "The most popular explanation comes from the Copenhagan Interpretation, where the experiment results depend on how we measure them. \n",
    "\n",
    "There is a complementarity principle where you can't observe wave and particle at the same time, just like blind men and the elephant, \n",
    "\n",
    "<div><img src=\"CUSHIONS/2.3.png\" width=\"450\"/></div>\n"
   ]
  },
  {
   "cell_type": "markdown",
   "id": "3aac628b",
   "metadata": {},
   "source": [
    "# 2.2 Wave As Probability \n",
    "\n",
    "<p style=\"line-height: 1.7; font-family: Arial; font-size:1em;color:blue;\"> Wait, when we say electrons having wave properties, how does that commersable to water wave or wave on an ocilating string? </p>\n",
    "\n",
    "In order to describe the wave of electron\n",
    "\n",
    "1. Term it as the wave function, or Psi symbol in math language:\n",
    "\n",
    "$$\\Psi$$\n",
    "\n",
    "2. Different wave function x can be denoted as:\n",
    "\n",
    "$$\\Psi (x)$$\n",
    "\n",
    "3. Different wave function would represent different patterns:\n",
    "\n",
    "<div><img src=\"CUSHIONS/2.4.gif\" width=\"450\"/></div>\n",
    "<p style=\"margin-left: 1.2em;line-height: 1; font-family: Arial; font-style: italic; font-size:0.7em;color:#c4c4c4;\"> Wave function from wikipedia.  </p>\n"
   ]
  },
  {
   "cell_type": "markdown",
   "id": "be6ecb54",
   "metadata": {},
   "source": [
    "4. The above string wave represent the probability of where the electron could position\n",
    "\n",
    "<div><img src=\"CUSHIONS/2.5.gif\" width=\"450\"/></div>\n",
    "<p style=\"margin-left: 1.2em;line-height: 1; font-family: Arial; font-style: italic; font-size:0.7em;color:#c4c4c4;\"> Wave function visualisation by Eugene Khutoryansky  </p>\n",
    "\n",
    "5. The probability of where the electron position within the wave function change over time \n",
    "\n",
    "<div><img src=\"CUSHIONS/2.6.gif\" width=\"450\"/></div>\n",
    "<p style=\"margin-left: 1.2em;line-height: 1; font-family: Arial; font-style: italic; font-size:0.7em;color:#c4c4c4;\"> Wave function visualisation by Eugene Khutoryansky  </p>\n",
    "\n",
    "6. As it is only possible to predict the probability, we can use the Hamiltonian symbol to represent the total energy of a system, which is the sum of kinetic and potential energy operator:\n",
    "\n",
    "$$\\hat{\\mathcal{H}} = \\hat{\\mathcal{T}} + \\hat{\\mathcal{V}}$$\n",
    "\n",
    "*Total energy of a quantum system = kinetic energy operator + potential energy operator*\n"
   ]
  },
  {
   "cell_type": "markdown",
   "id": "64eb0587",
   "metadata": {},
   "source": [
    "7. As kinetic energy is denoted as:\n",
    "\n",
    "$$ \\hat{\\mathcal{T}} = \\frac{momentem^2}{2(mass)} =\\frac{\\hat{\\mathcal{p}}}{2m} $$ \n",
    "and $$ \\hat{\\mathcal{p}} = \\frac{Plank's Constant}{complex number} \\frac{derivetive}{derivetive x} = \\frac{\\hbar}{i} \\frac{d}{dx} $$"
   ]
  },
  {
   "cell_type": "markdown",
   "id": "2974e627",
   "metadata": {},
   "source": [
    "# 2.3 Momentum Or Position"
   ]
  },
  {
   "cell_type": "code",
   "execution_count": null,
   "id": "3d377a3d",
   "metadata": {},
   "outputs": [],
   "source": [
    "import IPython.display as ipd\n",
    "ipd.Audio('CUSHIONS/Delia Derbushir - The Wizardz Laboratory (1972).mp3')"
   ]
  },
  {
   "cell_type": "markdown",
   "id": "28dc6c11",
   "metadata": {},
   "source": [
    "1. Install python library for audio analytic"
   ]
  },
  {
   "cell_type": "code",
   "execution_count": null,
   "id": "eae8f8d9",
   "metadata": {},
   "outputs": [],
   "source": [
    "pip install librosa matplotlib"
   ]
  },
  {
   "cell_type": "code",
   "execution_count": null,
   "id": "25651aae",
   "metadata": {},
   "outputs": [],
   "source": [
    "%matplotlib inline\n",
    "import matplotlib.pyplot as plt\n",
    "import librosa.display\n",
    "plt.figure(figsize=(14, 5))\n",
    "librosa.display.waveplot(x, sr=sr)"
   ]
  },
  {
   "cell_type": "markdown",
   "id": "89395b71",
   "metadata": {},
   "source": [
    "# Thoughts\n",
    "\n",
    "- Light as particles emitting in wave patterns - wave-particle duality\n",
    "- Electron and Phtons are both waves and particles depending on how you measure it\n",
    "- Wave-particle duality is not blind people describing an elephant, as we cannot provide a coherent interpretation to this phenonmonon "
   ]
  }
 ],
 "metadata": {
  "kernelspec": {
   "display_name": "Python 3",
   "language": "python",
   "name": "python3"
  },
  "language_info": {
   "codemirror_mode": {
    "name": "ipython",
    "version": 3
   },
   "file_extension": ".py",
   "mimetype": "text/x-python",
   "name": "python",
   "nbconvert_exporter": "python",
   "pygments_lexer": "ipython3",
   "version": "3.9.5"
  }
 },
 "nbformat": 4,
 "nbformat_minor": 5
}
