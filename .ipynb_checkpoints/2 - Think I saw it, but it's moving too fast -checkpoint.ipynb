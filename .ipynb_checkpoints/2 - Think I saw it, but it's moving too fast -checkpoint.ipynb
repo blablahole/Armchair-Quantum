{
 "cells": [
  {
   "cell_type": "markdown",
   "id": "7b837063",
   "metadata": {},
   "source": [
    "If light are both wave and particles, maybe electrons can too?"
   ]
  },
  {
   "cell_type": "code",
   "execution_count": 1,
   "id": "c12c16db",
   "metadata": {},
   "outputs": [
    {
     "output_type": "error",
     "ename": "ValueError",
     "evalue": "rate must be specified when data is a numpy array or list of audio samples.",
     "traceback": [
      "\u001b[0;31m---------------------------------------------------------------------------\u001b[0m",
      "\u001b[0;31mValueError\u001b[0m                                Traceback (most recent call last)",
      "\u001b[0;32m<ipython-input-1-66667fd61ece>\u001b[0m in \u001b[0;36m<module>\u001b[0;34m\u001b[0m\n\u001b[1;32m      1\u001b[0m \u001b[0;32mimport\u001b[0m \u001b[0mIPython\u001b[0m\u001b[0;34m.\u001b[0m\u001b[0mdisplay\u001b[0m \u001b[0;32mas\u001b[0m \u001b[0mipd\u001b[0m\u001b[0;34m\u001b[0m\u001b[0;34m\u001b[0m\u001b[0m\n\u001b[0;32m----> 2\u001b[0;31m \u001b[0mipd\u001b[0m\u001b[0;34m.\u001b[0m\u001b[0mAudio\u001b[0m\u001b[0;34m(\u001b[0m\u001b[0;34m'CUSHIONS/Delia Derbushir - The Wizardz Laboratory (1972).mp3'\u001b[0m\u001b[0;34m)\u001b[0m\u001b[0;34m\u001b[0m\u001b[0;34m\u001b[0m\u001b[0m\n\u001b[0m",
      "\u001b[0;32m~/Library/Python/3.8/lib/python/site-packages/IPython/lib/display.py\u001b[0m in \u001b[0;36m__init__\u001b[0;34m(self, data, filename, url, embed, rate, autoplay, normalize, element_id)\u001b[0m\n\u001b[1;32m    114\u001b[0m         \u001b[0;32mif\u001b[0m \u001b[0mself\u001b[0m\u001b[0;34m.\u001b[0m\u001b[0mdata\u001b[0m \u001b[0;32mis\u001b[0m \u001b[0;32mnot\u001b[0m \u001b[0;32mNone\u001b[0m \u001b[0;32mand\u001b[0m \u001b[0;32mnot\u001b[0m \u001b[0misinstance\u001b[0m\u001b[0;34m(\u001b[0m\u001b[0mself\u001b[0m\u001b[0;34m.\u001b[0m\u001b[0mdata\u001b[0m\u001b[0;34m,\u001b[0m \u001b[0mbytes\u001b[0m\u001b[0;34m)\u001b[0m\u001b[0;34m:\u001b[0m\u001b[0;34m\u001b[0m\u001b[0;34m\u001b[0m\u001b[0m\n\u001b[1;32m    115\u001b[0m             \u001b[0;32mif\u001b[0m \u001b[0mrate\u001b[0m \u001b[0;32mis\u001b[0m \u001b[0;32mNone\u001b[0m\u001b[0;34m:\u001b[0m\u001b[0;34m\u001b[0m\u001b[0;34m\u001b[0m\u001b[0m\n\u001b[0;32m--> 116\u001b[0;31m                 \u001b[0;32mraise\u001b[0m \u001b[0mValueError\u001b[0m\u001b[0;34m(\u001b[0m\u001b[0;34m\"rate must be specified when data is a numpy array or list of audio samples.\"\u001b[0m\u001b[0;34m)\u001b[0m\u001b[0;34m\u001b[0m\u001b[0;34m\u001b[0m\u001b[0m\n\u001b[0m\u001b[1;32m    117\u001b[0m             \u001b[0mself\u001b[0m\u001b[0;34m.\u001b[0m\u001b[0mdata\u001b[0m \u001b[0;34m=\u001b[0m \u001b[0mAudio\u001b[0m\u001b[0;34m.\u001b[0m\u001b[0m_make_wav\u001b[0m\u001b[0;34m(\u001b[0m\u001b[0mdata\u001b[0m\u001b[0;34m,\u001b[0m \u001b[0mrate\u001b[0m\u001b[0;34m,\u001b[0m \u001b[0mnormalize\u001b[0m\u001b[0;34m)\u001b[0m\u001b[0;34m\u001b[0m\u001b[0;34m\u001b[0m\u001b[0m\n\u001b[1;32m    118\u001b[0m \u001b[0;34m\u001b[0m\u001b[0m\n",
      "\u001b[0;31mValueError\u001b[0m: rate must be specified when data is a numpy array or list of audio samples."
     ]
    }
   ],
   "source": [
    "import IPython.display as ipd\n",
    "ipd.Audio('CUSHIONS/Delia Derbushir - The Wizardz Laboratory (1972).mp3')"
   ]
  },
  {
   "cell_type": "markdown",
   "id": "2b2d22da",
   "metadata": {},
   "source": [
    "1. Install python library for audio analytic"
   ]
  },
  {
   "cell_type": "code",
   "execution_count": 1,
   "id": "c12742dc",
   "metadata": {},
   "outputs": [
    {
     "output_type": "stream",
     "name": "stdout",
     "text": [
      "Defaulting to user installation because normal site-packages is not writeable\n",
      "Requirement already satisfied: librosa in /Library/Python/3.8/site-packages (0.8.0)\n",
      "Requirement already satisfied: numba>=0.43.0 in /Library/Python/3.8/site-packages (from librosa) (0.53.1)\n",
      "Requirement already satisfied: soundfile>=0.9.0 in /Library/Python/3.8/site-packages (from librosa) (0.10.3.post1)\n",
      "Requirement already satisfied: joblib>=0.14 in /Users/mer/Library/Python/3.8/lib/python/site-packages (from librosa) (1.0.1)\n",
      "Requirement already satisfied: scikit-learn!=0.19.0,>=0.14.0 in /Users/mer/Library/Python/3.8/lib/python/site-packages (from librosa) (0.24.1)\n",
      "Requirement already satisfied: decorator>=3.0.0 in /Users/mer/Library/Python/3.8/lib/python/site-packages (from librosa) (4.4.2)\n",
      "Requirement already satisfied: pooch>=1.0 in /Library/Python/3.8/site-packages (from librosa) (1.3.0)\n",
      "Requirement already satisfied: audioread>=2.0.0 in /Library/Python/3.8/site-packages (from librosa) (2.1.9)\n",
      "Requirement already satisfied: numpy>=1.15.0 in /Users/mer/Library/Python/3.8/lib/python/site-packages (from librosa) (1.20.1)\n",
      "Requirement already satisfied: resampy>=0.2.2 in /Library/Python/3.8/site-packages (from librosa) (0.2.2)\n",
      "Requirement already satisfied: scipy>=1.0.0 in /Users/mer/Library/Python/3.8/lib/python/site-packages (from librosa) (1.6.3)\n",
      "Requirement already satisfied: llvmlite<0.37,>=0.36.0rc1 in /Library/Python/3.8/site-packages (from numba>=0.43.0->librosa) (0.36.0)\n",
      "Requirement already satisfied: setuptools in /Users/mer/Library/Python/3.8/lib/python/site-packages (from numba>=0.43.0->librosa) (56.1.0)\n",
      "Requirement already satisfied: appdirs in /Users/mer/Library/Python/3.8/lib/python/site-packages (from pooch>=1.0->librosa) (1.4.4)\n",
      "Requirement already satisfied: requests in /Users/mer/Library/Python/3.8/lib/python/site-packages (from pooch>=1.0->librosa) (2.25.1)\n",
      "Requirement already satisfied: packaging in /Users/mer/Library/Python/3.8/lib/python/site-packages (from pooch>=1.0->librosa) (20.9)\n",
      "Requirement already satisfied: six>=1.3 in /Library/Developer/CommandLineTools/Library/Frameworks/Python3.framework/Versions/3.8/lib/python3.8/site-packages (from resampy>=0.2.2->librosa) (1.15.0)\n",
      "Requirement already satisfied: threadpoolctl>=2.0.0 in /Users/mer/Library/Python/3.8/lib/python/site-packages (from scikit-learn!=0.19.0,>=0.14.0->librosa) (2.1.0)\n",
      "Requirement already satisfied: cffi>=1.0 in /Users/mer/Library/Python/3.8/lib/python/site-packages (from soundfile>=0.9.0->librosa) (1.14.5)\n",
      "Requirement already satisfied: pycparser in /Users/mer/Library/Python/3.8/lib/python/site-packages (from cffi>=1.0->soundfile>=0.9.0->librosa) (2.20)\n",
      "Requirement already satisfied: pyparsing>=2.0.2 in /Users/mer/Library/Python/3.8/lib/python/site-packages (from packaging->pooch>=1.0->librosa) (2.4.7)\n",
      "Requirement already satisfied: certifi>=2017.4.17 in /Users/mer/Library/Python/3.8/lib/python/site-packages (from requests->pooch>=1.0->librosa) (2020.12.5)\n",
      "Requirement already satisfied: chardet<5,>=3.0.2 in /Users/mer/Library/Python/3.8/lib/python/site-packages (from requests->pooch>=1.0->librosa) (4.0.0)\n",
      "Requirement already satisfied: idna<3,>=2.5 in /Users/mer/Library/Python/3.8/lib/python/site-packages (from requests->pooch>=1.0->librosa) (2.10)\n",
      "Requirement already satisfied: urllib3<1.27,>=1.21.1 in /Users/mer/Library/Python/3.8/lib/python/site-packages (from requests->pooch>=1.0->librosa) (1.26.4)\n",
      "Note: you may need to restart the kernel to use updated packages.\n"
     ]
    }
   ],
   "source": [
    "pip install librosa"
   ]
  },
  {
   "cell_type": "code",
   "execution_count": 2,
   "id": "8614d495",
   "metadata": {},
   "outputs": [],
   "source": [
    "%matplotlib inline\n",
    "import matplotlib.pyplot as plt\n",
    "import librosa.display\n",
    "\n",
    "plt.figure(figsize=(14, 5))\n",
    "librosa.display.waveplot(x, sr=sr)"
   ]
  },
  {
   "cell_type": "code",
   "execution_count": null,
   "id": "df6f835c",
   "metadata": {},
   "outputs": [],
   "source": [
    "from scipy import *\n",
    "from pylab import *\n",
    "from numpy import *\n",
    "import sys\n",
    "import matplotlib.pyplot as plt\n",
    "from scipy import integrate\n",
    " \n",
    "R10 = lambda r: 4*exp(-2*r)*r**2                 \n",
    "R20 = lambda r: 0.5*(1-r+r**2/4)*exp(-r)*r**2\n",
    "R30 = lambda r: 1/(9**2*3)*((6-4*r+4*r**2/9)*exp(-r/3))**2*r**2\n",
    " \n",
    "r = linspace(0,35,1000)\n",
    "r100 = R10(r)\n",
    "r200 = R20(r)\n",
    "r300 = R30(r)\n",
    " \n",
    "plt.plot(r, r100, label='|R10|²r²')\n",
    "plt.plot(r, r200, label='|R20|²r²')\n",
    "plt.plot(r, r300, label='|R30|²r²')\n",
    "plt.title('Probability density')\n",
    "plt.xlabel('aₒr')\n",
    "plt.ylabel('P(aₒr)')\n",
    "plt.legend()\n",
    "plt.show()\n",
    " \n",
    "I1 = integrate.quad(R10, 0, np.inf)[0]\n",
    "I2 = integrate.quad(R20, 0, np.inf)[0]\n",
    "I3 = integrate.quad(R30, 0, np.inf)[0]\n",
    " \n",
    "print('Normalization integral from 0 to infinity')\n",
    "print('<100|100> =', round(I1,8))\n",
    "print('<200|200> =', round(I2,8))\n",
    "print('<300|300> =', round(I3,8))"
   ]
  },
  {
   "cell_type": "code",
   "execution_count": null,
   "id": "d4755b5c",
   "metadata": {},
   "outputs": [],
   "source": []
  },
  {
   "cell_type": "code",
   "execution_count": 2,
   "id": "41e47c9e",
   "metadata": {},
   "outputs": [
    {
     "data": {
      "image/png": "[encoded data removed]",
      "text/plain": [
       "<Figure size 432x288 with 1 Axes>"
      ]
     },
     "metadata": {
      "needs_background": "light"
     },
     "output_type": "display_data"
    },
    {
     "name": "stdout",
     "output_type": "stream",
     "text": [
      "Integral from 0 to infinity\n",
      "<r100|Epot|r100> = 1.0 e²/4πεₒaₒ ≈ 27.2 eV\n",
      "<r200|Epot|r200> = 0.25 e²/4πεₒaₒ ≈ 6.8 eV\n",
      "<r300|Epot|r300> = 0.11111111 e²/4πεₒaₒ ≈ 3.02 eV\n"
     ]
    }
   ],
   "source": [
    "from scipy import *\n",
    "from pylab import *\n",
    "from numpy import *\n",
    "import sys\n",
    "import matplotlib.pyplot as plt\n",
    "from scipy import integrate\n",
    " \n",
    "R10 = lambda r: 4*exp(-2*r)*r                  \n",
    "R20 = lambda r: 0.5*(1-r+r**2/4)*exp(-r)*r\n",
    "R30 = lambda r: 1/(9**2*3)*((6-4*r+4*r**2/9)*exp(-r/3))**2*r\n",
    " \n",
    "r = linspace(0,20,1000)\n",
    "r100 = R10(r)\n",
    "r200 = R20(r)\n",
    "r300 = R30(r)\n",
    " \n",
    "plt.plot(r, r100, label='|R10|²r')\n",
    "plt.plot(r, r200, label='|R20|²r')\n",
    "plt.plot(r, r300, label='|R30|²r')\n",
    "plt.title('Expectation value for the potential energy')\n",
    "plt.xlabel('r')\n",
    "plt.ylabel('e²/4πεₒaₒ')\n",
    "plt.legend()\n",
    "plt.show()\n",
    " \n",
    "I1 = integrate.quad(R10, 0, np.inf)[0]\n",
    "I2 = integrate.quad(R20, 0, np.inf)[0]\n",
    "I3 = integrate.quad(R30, 0, np.inf)[0]\n",
    " \n",
    "print('Integral from 0 to infinity')\n",
    "print('<r100|Epot|r100> =', round(I1,8),'e²/4πεₒaₒ ≈', round(I1*27.2, 2), 'eV')\n",
    "print('<r200|Epot|r200> =', round(I2,8),'e²/4πεₒaₒ ≈',  round(I2*27.2, 2), 'eV')\n",
    "print('<r300|Epot|r300> =', round(I3,8),'e²/4πεₒaₒ ≈',  round(I3*27.2, 2), 'eV')\n"
   ]
  },
  {
   "cell_type": "code",
   "execution_count": null,
   "id": "3c8e4979",
   "metadata": {},
   "outputs": [],
   "source": []
  }
 ],
 "metadata": {
  "kernelspec": {
   "name": "python3",
   "display_name": "Python 3.8.2 64-bit ('usr')"
  },
  "language_info": {
   "codemirror_mode": {
    "name": "ipython",
    "version": 3
   },
   "file_extension": ".py",
   "mimetype": "text/x-python",
   "name": "python",
   "nbconvert_exporter": "python",
   "pygments_lexer": "ipython3",
   "version": "3.8.2"
  },
  "interpreter": {
   "hash": "5edc29c2ed010d6458d71a83433b383a96a8cbd3efe8531bc90c4b8a5b8bcec9"
  }
 },
 "nbformat": 4,
 "nbformat_minor": 5
}