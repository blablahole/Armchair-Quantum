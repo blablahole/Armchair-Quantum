{
 "cells": [
  {
   "cell_type": "markdown",
   "id": "39b98e0f",
   "metadata": {},
   "source": [
    "# 2.1 Electron As Waves \n",
    "\n",
    "<p style=\"line-height: 1.7; font-family: Arial; font-size:1em;color:blue;\"> But when we talk about light \"wave\", is it the same mechanic that create water wave patten? </p>\n",
    "\n",
    "It's only an interpretation derives from the first double slit experiment of light. In 1923, Louis de Broglie was inspired by the debate of particle and wave and deduce electron also display wave characteristic:\n",
    "\n",
    "$$ λ = h / mv = h / p$$\n",
    "\n",
    "*Wavelength of Electron = Plank's Constant / Mass x Velocity = Plank's Constant / Momentum of Electron*\n",
    "\n",
    "<p style=\"line-height: 1.7; font-family: Arial; font-size:1em;color:blue;\"> How do we know electrons display wave nature? </p>\n",
    "\n",
    "We could actually re-use the double slit experiment and shoot through electrons! In order to understand more about the nature of wave, we would shoot electron through one by one:"
   ]
  },
  {
   "cell_type": "code",
   "execution_count": null,
   "id": "30ddf964",
   "metadata": {},
   "outputs": [],
   "source": [
    "from IPython.display import Image\n",
    "Image(\"CUSHIONS/2.1.gif\")"
   ]
  },
  {
   "cell_type": "markdown",
   "id": "f211e932",
   "metadata": {},
   "source": [
    "from IPython.display import Image\n",
    "Image(\"CUSHIONS/2.1.png\")<p style=\"margin-left: 1.2em;line-height: 1; font-family: Arial; font-style: italic; font-size:0.7em;color:#c4c4c4;\"> Double Slit Experiment with electron by Physics Footnotes. Retrived from http://PhysicsFootnotes.com  </p>\n"
   ]
  },
  {
   "cell_type": "markdown",
   "id": "ccaa2e71",
   "metadata": {},
   "source": [
    "<p style=\"line-height: 1.7; font-family: Arial; font-size:1em;color:blue;\"> It's interesting how electron and photon both display nature in waves and particles </p>\n",
    "\n",
    "But quantum phenonmenon does not halt here, it gets intruiging when we want to measure which slit the electron or photon passed through.\n",
    "\n",
    "Once we put on detectors, the wave patterns are replaced by two bars on projection screens, which fits in the description of particles trajectory."
   ]
  },
  {
   "cell_type": "markdown",
   "id": "a0870dab",
   "metadata": {},
   "source": [
    "<div><img src=\"CUSHIONS/2.2.jpg\" width=\"450\"/></div>\n",
    "\n",
    "<p style=\"margin-left: 1.2em;line-height: 1; font-family: Arial; font-style: italic; font-size:0.7em;color:#c4c4c4;\"> Double Slit Experiment with electron.  </p>\n"
   ]
  },
  {
   "cell_type": "markdown",
   "id": "74511735",
   "metadata": {},
   "source": [
    "<p style=\"line-height: 1.7; font-family: Arial; font-size:1em;color:blue;\"> How did adding detectors at the slit change electrons from wave to particles? </p>\n",
    "\n",
    "The most popular explanation comes from the Copenhagan Interpretation, where the experiment results depend on how we measure them. \n",
    "\n",
    "There is a complementarity principle where you can't observe wave and particle at the same time, just like blind men and the elephant, \n",
    "\n",
    "<div><img src=\"CUSHIONS/2.3.png\" width=\"450\"/></div>\n"
   ]
  },
  {
   "cell_type": "markdown",
   "id": "d148acf4",
   "metadata": {},
   "source": [
    "# 2.2 Wave As Probability \n",
    "\n",
    "<p style=\"line-height: 1.7; font-family: Arial; font-size:1em;color:blue;\"> Wait, when we say electrons having wave properties, how does that commersable to water wave or wave on an ocilating string? </p>\n",
    "\n",
    "In order to describe the wave of electron\n",
    "\n",
    "1. We can use the Psi symbol to denote the wave function, or the parameter that change the probability of where the electron would appear:\n",
    "\n",
    "$$\\Psi$$\n",
    "\n",
    "2. Different wave function x can be denoted as:\n",
    "\n",
    "$$\\Psi (x)$$\n",
    "\n",
    "3. Different wave function would represent different patterns:\n",
    "\n",
    "<div><img src=\"CUSHIONS/2.4.gif\" width=\"450\"/></div>\n",
    "<p style=\"margin-left: 1.2em;line-height: 1; font-family: Arial; font-style: italic; font-size:0.7em;color:#c4c4c4;\"> Wave function from wikipedia.  </p>\n"
   ]
  },
  {
   "cell_type": "markdown",
   "id": "ce8d0a53",
   "metadata": {},
   "source": [
    "4. The above string wave represent the probability of where the electron could position\n",
    "\n",
    "<div><img src=\"CUSHIONS/2.5.gif\" width=\"450\"/></div>\n",
    "<p style=\"margin-left: 1.2em;line-height: 1; font-family: Arial; font-style: italic; font-size:0.7em;color:#c4c4c4;\"> Wave function visualisation by Eugene Khutoryansky  </p>\n",
    "\n",
    "5. The probability of where the electron position within the wave function change over time \n",
    "\n",
    "<div><img src=\"CUSHIONS/2.6.gif\" width=\"450\"/></div>\n",
    "<p style=\"margin-left: 1.2em;line-height: 1; font-family: Arial; font-style: italic; font-size:0.7em;color:#c4c4c4;\"> Wave function visualisation by Eugene Khutoryansky  </p>\n",
    "\n",
    "6. As it is only possible to predict the probability, we can use the Hamiltonian symbol to represent the total energy of a system, which is the sum of kinetic and potential energy operator:\n",
    "\n",
    "$$\\hat{\\mathcal{H}} = \\hat{\\mathcal{T}} + \\hat{\\mathcal{V}}$$\n",
    "\n",
    "    *Total energy of a quantum system = kinetic energy operator + potential energy operator*\n"
   ]
  },
  {
   "cell_type": "markdown",
   "id": "d5dc2d26",
   "metadata": {},
   "source": [
    "7. As kinetic energy is denoted as:\n",
    "\n",
    "$$ \\hat{\\mathcal{T}} = \\frac{Momentem^2}{2(Mass)} =\\frac{\\hat{\\mathcal{p}}}{2m} $$ \n",
    "\n",
    "    and \n",
    "\n",
    "$$ \\hat{\\mathcal{p}} = \\frac{Plank's Constant}{Complex Number} \\frac{Derivetive}{Derivetive x} = \\frac{\\hbar}{i} \\frac{\\partial}{\\partial x} $$"
   ]
  },
  {
   "cell_type": "markdown",
   "id": "70335531-593d-4142-b3a7-e2bda11a2cac",
   "metadata": {},
   "source": [
    "8. Once these physical relations are reformulated, we aquire an equation that describes where you can possibily (wave function) find small particles (electrons etc.), and specifies how these waves are altered by external influences.\n",
    "\n",
    "    We could add the coordination and time period for the measurement, including the function of all the spatial coordinate(s) of the particle(s):\n",
    "\n",
    "$$ SpatialCoordinates = \\Psi (\\mathbf{r}) $$\n",
    "    \n",
    "    And time:\n",
    "    \n",
    "$$ Time = t $$\n",
    "\n",
    "    Together we have:\n",
    "\n",
    "$$ i \\hbar \\frac{\\partial}{\\partial t}\\Psi(\\mathbf{r},t) = \\hat H \\Psi(\\mathbf{r},t) $$\n",
    "\n",
    "    It is also known as the Schrodinger Equation."
   ]
  },
  {
   "cell_type": "markdown",
   "id": "6fc37d4b",
   "metadata": {},
   "source": [
    "# 2.3 Momentum Or Position"
   ]
  },
  {
   "cell_type": "markdown",
   "id": "926d9df2-e0a0-4cc6-b267-677617d2f125",
   "metadata": {},
   "source": [
    "<div><img src=\"CUSHIONS/2.7.gif\" width=\"450\"/></div>"
   ]
  },
  {
   "cell_type": "markdown",
   "id": "e6ff1105",
   "metadata": {},
   "source": [
    "# Thoughts\n",
    "\n",
    "- Light as particles emitting in wave patterns - wave-particle duality\n",
    "- Electron and Phtons are both waves and particles depending on how you measure it\n",
    "- Wave-particle duality is not blind people describing an elephant, as we cannot provide a coherent interpretation to this phenonmonon "
   ]
  }
 ],
 "metadata": {
  "kernelspec": {
   "display_name": "Python 3",
   "language": "python",
   "name": "python3"
  },
  "language_info": {
   "codemirror_mode": {
    "name": "ipython",
    "version": 3
   },
   "file_extension": ".py",
   "mimetype": "text/x-python",
   "name": "python",
   "nbconvert_exporter": "python",
   "pygments_lexer": "ipython3",
   "version": "3.9.5"
  }
 },
 "nbformat": 4,
 "nbformat_minor": 5
}
