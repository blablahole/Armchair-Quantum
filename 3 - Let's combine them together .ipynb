{
 "cells": [
  {
   "cell_type": "markdown",
   "id": "established-channels",
   "metadata": {},
   "source": [
    "# 3.1 Particles As Radiation"
   ]
  },
  {
   "cell_type": "code",
   "execution_count": 2,
   "id": "04659dc5-7c36-4ec4-957e-f248f144fdec",
   "metadata": {},
   "outputs": [],
   "source": [
    "%%capture\n",
    "pip install git+https://github.com/qiskit-community/qiskit-textbook.git#subdirectory=qiskit-textbook-src"
   ]
  },
  {
   "cell_type": "code",
   "execution_count": 3,
   "id": "d50cbefe-fc30-4d05-86dd-ae5679715515",
   "metadata": {},
   "outputs": [],
   "source": [
    "%%capture\n",
    "pip install numexpr scipy"
   ]
  },
  {
   "cell_type": "markdown",
   "id": "cutting-accessory",
   "metadata": {},
   "source": [
    "Light emits radiation. Our eyes can only receive a certain range of radiation as visible light."
   ]
  },
  {
   "cell_type": "code",
   "execution_count": null,
   "id": "10144368-a3c8-4d4b-8daa-65ba9e5262a9",
   "metadata": {},
   "outputs": [],
   "source": [
    "run CUSHIONS/3.1.py"
   ]
  },
  {
   "cell_type": "markdown",
   "id": "atmospheric-dollar",
   "metadata": {},
   "source": [
    "From the first tutorial, we understand the photoelectric effect by electrons turning into photoelectrons. From the perspective of spectroscopy, the electron absorb the light and leave black bars."
   ]
  },
  {
   "cell_type": "code",
   "execution_count": null,
   "id": "28ad0866-ca0b-43fc-8bbf-1ecee9c8a020",
   "metadata": {},
   "outputs": [],
   "source": [
    "from IPython.display import Image\n",
    "Image(\"CUSHIONS/3.2.png\")"
   ]
  },
  {
   "cell_type": "markdown",
   "id": "seven-dimension",
   "metadata": {},
   "source": [
    "The wavelength of black bars help us to understand the amount and energy level of different chemical elemenets. Space exploration use these information to determine the chemical elements of distanced planet, with mere radiation that reach earth."
   ]
  },
  {
   "cell_type": "markdown",
   "id": "traditional-sunday",
   "metadata": {},
   "source": [
    "# 3.2 Particles As Spins"
   ]
  },
  {
   "cell_type": "markdown",
   "id": "fifteen-greek",
   "metadata": {},
   "source": [
    "Other than energy level of electrons, they have another fundamental property called spins, except they are not really spinning. \n",
    "\n",
    "In the Stern-Gerlach experiment in 1922, a beam of silver atoms were sent through an inhomogeneous magnetic field for observing their deflection. \n",
    "\n",
    "As assumed electrons spin in different pole angles of electromagnetic waves with different angular momentum, the magnet would alter the projection target in different degrees. \n",
    "\n",
    "<div><img src=\"CUSHIONS/3.3.jpg\" width=\"450\"/></div>\n"
   ]
  },
  {
   "cell_type": "markdown",
   "id": "restricted-pipeline",
   "metadata": {},
   "source": [
    "The experiment suggested otherwise. Instead of evenly distribution of electrons in different angles, there seem to be only spinning 50% \"up\" and 50% \"down\".\n",
    "\n",
    "<div><img src=\"CUSHIONS/3.4.png\" width=\"450\"/></div>\n",
    "\n",
    "<p style=\"line-height: 1.7; font-family: Arial; font-size:1em;color:blue;\"> Up and down as in making an observation on planet Earth? </p>\n",
    "\n",
    "Yes as in on a cosmic body.\n",
    "\n",
    "Anyhow we concluded a fundamental property of electron spin, up and down, which can be manipulated for either direction."
   ]
  },
  {
   "cell_type": "markdown",
   "id": "altered-security",
   "metadata": {},
   "source": [
    "# 3.3 Sync Two Particles"
   ]
  },
  {
   "cell_type": "markdown",
   "id": "fantastic-turning",
   "metadata": {},
   "source": [
    "If we can measure and change the property of chemical elements, it is possible to encode these states for real life applications. \n",
    "\n",
    "Let's say lowest energy level, or ground state, of an atom as 0; and level 1, or excitement state, as 1. Similarly we can encode electron spinning up as 1 and spinning down as 0. By translating into binary, we can encode an atom for computational purpose, or qubit.\n",
    "\n",
    "Researchers can generate pairs of qubits that are “entangled” in spins, which means the two members of a pair exist in a single quantum state (measured by spin). Changing the state of one of the qubits will instantaneously change the state of the other one in a predictable way. This happens even if they are separated by very long distances.\n",
    "\n",
    "<div><img src=\"CUSHIONS/3.5.gif\" width=\"450\"/></div>\n",
    "\n",
    "Nobody really knows quite how or why entanglement works. It even baffled Einstein, who famously described it as “spooky action at a distance.” But it’s key to the power of quantum computers. \n",
    "\n",
    "<p style=\"line-height: 1.7; font-family: Arial; font-size:1em;color:blue;\"> Hold on. How can we determine two particles as seperate entities instead of parts of a \"larger\" system? Two cells of biological bodies are distinguishable but doesn't mean they are not \"in the same part\". </p>\n",
    "\n",
    "Some even argue they are the same particle under superposition in our observable space. But this cannot be yet proven, and there is an underlying problem of using metaphors of larger systems, such as biological cells, that cannot translate quantum property (such as wave interference). Not saying human body can overarch the probability of quantum nature, but the chance of you entangling with other large particle compositions is too slight to come in effect.\n",
    "\n",
    "<div><img src=\"CUSHIONS/3.7.gif\" width=\"450\"/></div>\n",
    "\n",
    "Back to computing, two bits in your computer can be in four possible states (00, 01, 10, or 11), but only one of them at any time. This limits the computer to processing one input at a time (like trying one corridor in the maze).\n",
    "\n",
    "In a quantum computer, two qubits can also represent the exact same four states (00, 01, 10, or 11). The difference is, because of superposition, the qubits can represent all four at the same time. That’s a bit like having four regular computers running side-by-side.\n",
    "\n",
    "<div><img src=\"CUSHIONS/3.8.gif\" width=\"450\"/></div>\n",
    "\n",
    "While classical 2 to the power 64 can compute 18,446,744,073,709,600,000 possibilities one at a time, quantum computing with 64 qubits can calculate all possibilities simultaneously, in theory. "
   ]
  },
  {
   "cell_type": "markdown",
   "id": "active-metabolism",
   "metadata": {},
   "source": [
    "# 3.4 Qubits"
   ]
  },
  {
   "cell_type": "markdown",
   "id": "6b129596-ac47-425e-bf5b-9c50b977e021",
   "metadata": {},
   "source": [
    "If we are encoding particles for computational purpose, it also means quantum computer is more prone to \"physical nature\".\n",
    "\n",
    "<p style=\"line-height: 1.7; font-family: Arial; font-size:1em;color:blue;\"> Does that mean we have more accurate simulation of physical models like molecular structure? </p>\n",
    "\n",
    "It's partly true that quantum computers are for special calculation, but our goal is to design universal computing macine where it can perform general tasks.\n",
    "\n",
    "That said, we need to understand how qubits work. In our context of open source learning, we pick IBM Qiskit as a demonstration with superconducting qubit."
   ]
  },
  {
   "cell_type": "code",
   "execution_count": 4,
   "id": "41d7679c-8a8c-4c80-986a-c7f5321f032a",
   "metadata": {},
   "outputs": [],
   "source": [
    "from qiskit import QuantumCircuit, assemble, Aer\n",
    "from math import pi, sqrt\n",
    "from qiskit.visualization import plot_bloch_multivector, plot_histogram\n",
    "sim = Aer.get_backend('aer_simulator')"
   ]
  },
  {
   "cell_type": "markdown",
   "id": "broken-salem",
   "metadata": {},
   "source": [
    "From our second tutorial, we have examined the probability nature of electrons, and we have discussed spins that are determined by measurement. \n",
    "\n",
    "The probability of particles \"spinning\" up or down can be manipulated by different energy level of electromagnetic wave. But there's a catch, particle spins are simultaneously up and down before measurement, and all these combined possibilities are called superposition.\n",
    "\n",
    "<div><img src=\"CUSHIONS/3.5.5.gif\" width=\"450\"/></div>\n",
    "\n",
    "\n",
    "Superposition also applies on excitment states (ground energy and level 1 before measurement) and positions of an electron (appear in different places before measurement). \n",
    "\n",
    "<div><img src=\"CUSHIONS/3.6.gif\" width=\"450\"/></div>\n",
    "\n",
    "As superposition contains the possibility of spinning up $∣0⟩$ and spinning down $∣1⟩$, we use the bra-ket notation to represent different possibilities that changes overtime:\n",
    "\n",
    "$$|\\psi\\rangle_{\\text{electron}} = a|0\\rangle + b|1\\rangle$$\n",
    "\n",
    "When we see a ket-bra notation, it basically means:\n",
    "\n",
    "$|a\\rangle\\langle b| = \n",
    "      \\begin{bmatrix}\n",
    "              a_0 b_0 & a_0 b_1 & \\dots  & a_0 b_n\\\\ \n",
    "              a_1 b_0 & \\ddots  &        & \\vdots \\\\\n",
    "              \\vdots  &         & \\ddots & \\vdots \\\\\n",
    "              a_n b_0 & \\dots   & \\dots  & a_n b_n \\\\\n",
    "      \\end{bmatrix}$\n",
    "\n",
    "Qubits can be in a superposition of both the basis states $∣0⟩$ and $∣1⟩$. When a qubit is measured (to be more precise: only observables can be measured), the qubit will collapse to one of its eigenstates and the measured value will reflect that state. \n",
    "\n",
    "For example, when a qubit is in a superposition state of equal weights, a measurement will make it collapse to one of its two basis states $∣0⟩$ and $∣1⟩$ with an equal probability of 50%. $∣0⟩$ is the state that when measured, and therefore collapsed, will always give the result 0. Similarly, $∣1⟩$ will always convert to 1. \n",
    "\n",
    "We could use the bloch sphere from qiskit library to represent different state of an qubit:"
   ]
  },
  {
   "cell_type": "code",
   "execution_count": null,
   "id": "ca567692-f8c5-4915-8aa4-a1d1acb97800",
   "metadata": {},
   "outputs": [],
   "source": [
    "import scipy\n",
    "from qiskit_textbook.widgets import plot_bloch_vector_spherical\n",
    "coords = [scipy.pi/2,0,1] # [Theta, Phi, Radius]\n",
    "plot_bloch_vector_spherical(coords) # Bloch Vector with spherical coordinates"
   ]
  },
  {
   "cell_type": "markdown",
   "id": "german-brother",
   "metadata": {},
   "source": [
    "In "
   ]
  },
  {
   "cell_type": "markdown",
   "id": "pretty-knowing",
   "metadata": {},
   "source": [
    "# 3.4 Quantum Function"
   ]
  },
  {
   "cell_type": "markdown",
   "id": "little-spirituality",
   "metadata": {},
   "source": [
    "Once we can use atoms as computable objects, we could also use their physical properties to construct different tions such as funclogic gates. Let's use X-gate as an example. It is also known as Pauli-gate as it exploit the Pauli exclusion principle of electrons that no fermions would sit on the same energy level, which is also the reason why we don't fall through our armchairs. \n",
    "\n",
    "We can represent the gate as:\n",
    "\n",
    "$X = \\begin{bmatrix} 0 & 1 \\\\ 1 & 0 \\end{bmatrix} = |0\\rangle\\langle1| + |1\\rangle\\langle0|$\n",
    "\n",
    "According to the rules of Matrix multiplication:\n",
    "\n",
    "$M|v\\rangle  = \\begin{bmatrix}a & b \\\\ c & d \\\\\\end{bmatrix}\\begin{bmatrix}v_0 \\\\ v_1 \\\\\\end{bmatrix}\n",
    "                = \\begin{bmatrix}a\\cdot v_0 + b \\cdot v_1 \\\\ c \\cdot v_0 + d \\cdot v_1\\end{bmatrix}$\n",
    "\n",
    "We can see that the X-gate switches the amplitudes of the states |0⟩ and |1⟩:\n",
    "\n",
    "$X|0\\rangle = \\begin{bmatrix} 0 & 1 \\\\ 1 & 0 \\end{bmatrix}\\begin{bmatrix} 1 \\\\ 0 \\end{bmatrix} = \\begin{bmatrix} 0 \\\\ 1 \\end{bmatrix} = |1\\rangle$\n",
    "\n",
    "\n",
    "Basically flipping from 0 to 1 of qubit. We can also visualise Gate X on a logic flow of qubit change:"
   ]
  },
  {
   "cell_type": "code",
   "execution_count": null,
   "id": "9fb37e70-bd93-4f0b-a05e-52b5a0e4111a",
   "metadata": {},
   "outputs": [],
   "source": [
    "# Let's do an X-gate on a |0> qubit\n",
    "qc = QuantumCircuit(1)\n",
    "qc.x(0)\n",
    "qc.draw()"
   ]
  },
  {
   "cell_type": "code",
   "execution_count": null,
   "id": "108c888b-cf95-4ab8-85f6-eaadf149d469",
   "metadata": {},
   "outputs": [],
   "source": [
    "# Let's see the result\n",
    "qc.save_statevector()\n",
    "qobj = assemble(qc)\n",
    "state = sim.run(qobj).result().get_statevector()\n",
    "plot_bloch_multivector(state)"
   ]
  },
  {
   "cell_type": "markdown",
   "id": "b018cdfc-4dbf-43e6-8045-c5efc7390c7c",
   "metadata": {},
   "source": [
    "We can also use electromagnetic wave to manipulate the spin of qubit, that creates the Y and Z gate:\n",
    "\n",
    "$Y = \\begin{bmatrix} 0 & -i \\\\ i & 0 \\end{bmatrix} = -i|0\\rangle\\langle1| + i|1\\rangle\\langle0|$ \n",
    "\n",
    "$Z = \\begin{bmatrix} 1 & 0 \\\\ 0 & -1 \\end{bmatrix} = |0\\rangle\\langle0| - |1\\rangle\\langle1|$\n",
    "\n",
    "The Hadamard gate (H-gate) is a fundamental quantum gate. It allows us to move away from the poles of the Bloch sphere and create a superposition of |0⟩ and |1⟩. It has the matrix:\n",
    "\n",
    "$H = \\tfrac{1}{\\sqrt{2}}\\begin{bmatrix} 1 & 1 \\\\ 1 & -1 \\end{bmatrix}$\n",
    "\n",
    "$H|0\\rangle = |+\\rangle = \\tfrac{1}{\\sqrt{2}}(|0\\rangle + |1\\rangle) = \\tfrac{1}{\\sqrt{2}}\\begin{bmatrix} 1 \\\\ 1 \\end{bmatrix}$\n",
    "\n",
    "$H|1\\rangle = |-\\rangle = |-\\rangle = \\tfrac{1}{\\sqrt{2}}(|0\\rangle - |1\\rangle) = \\tfrac{1}{\\sqrt{2}}\\begin{bmatrix} 1 \\\\ -1 \\end{bmatrix}$\n",
    "\n",
    "The P-gate (phase gate) is parametrised, that is, it needs a number (ϕ) to tell it exactly what to do. The P-gate performs a rotation of ϕ around the Z-axis direction. It has the matrix form:\n",
    "\n",
    "$P(\\phi) = \\begin{bmatrix} 1 & 0 \\\\ 0 & e^{i\\phi} \\end{bmatrix}$\n",
    "\n",
    "Where ϕ is a real number.\n",
    "\n",
    "We can visualise to understand how and where the qubit state would change:"
   ]
  },
  {
   "cell_type": "code",
   "execution_count": null,
   "id": "e7481244-6141-45b7-8916-545cdedff6cc",
   "metadata": {},
   "outputs": [],
   "source": [
    "# Run the code in this cell to see the widget\n",
    "from qiskit_textbook.widgets import gate_demo\n",
    "gate_demo(gates='pauli+h+p')"
   ]
  },
  {
   "cell_type": "markdown",
   "id": "a025038a-9424-4df4-a023-b618e9371ab8",
   "metadata": {},
   "source": [
    "We can use the \"M\" to represent measurements, that can be happen at any state of the quantum computation. Here we have initialial state of a qubit and Hadamard gate: "
   ]
  },
  {
   "cell_type": "code",
   "execution_count": null,
   "id": "82996e85-f6b0-41a4-97de-7a3c1a510ac2",
   "metadata": {},
   "outputs": [],
   "source": [
    "# Create the X-measurement function:\n",
    "def x_measurement(qc, qubit, cbit):\n",
    "    #Measure 'qubit' in the X-basis, and store the result in classical bit\n",
    "    qc.h(qubit)\n",
    "    qc.measure(qubit, cbit)\n",
    "    return qc\n",
    "\n",
    "initial_state = [1/sqrt(2), -1/sqrt(2)]\n",
    "# Initialize our qubit and measure it\n",
    "\n",
    "qc = QuantumCircuit(1,1)\n",
    "qc.initialize(initial_state, 0)\n",
    "x_measurement(qc, 0, 0)  # measure qubit 0 to classical bit 0\n",
    "qc.draw()"
   ]
  },
  {
   "cell_type": "markdown",
   "id": "d2ed7a77-4fe0-4cbf-b3f1-9cde5615c467",
   "metadata": {},
   "source": [
    "# Thoughts\n",
    "- Electrons can spin up or/and down but they are technically not \"spinning\" like observable objects \n",
    "- We can entangle two electrons into a sync state, where one would spin up and another spin down due to the Pauli Exclusion Principle, no matter how far they are \n",
    "- We can use spinors, entanglement and interference to build computational bits\n",
    "- Qubits can perform all classical logic gates and they can do more funciton"
   ]
  }
 ],
 "metadata": {
  "kernelspec": {
   "display_name": "Python 3",
   "language": "python",
   "name": "python3"
  },
  "language_info": {
   "codemirror_mode": {
    "name": "ipython",
    "version": 3
   },
   "file_extension": ".py",
   "mimetype": "text/x-python",
   "name": "python",
   "nbconvert_exporter": "python",
   "pygments_lexer": "ipython3",
   "version": "3.9.5"
  }
 },
 "nbformat": 4,
 "nbformat_minor": 5
}
