{
 "cells": [
  {
   "cell_type": "markdown",
   "id": "blank-hunter",
   "metadata": {},
   "source": [
    "# 3.1 Particles As Radiation"
   ]
  },
  {
   "cell_type": "markdown",
   "id": "occupational-blond",
   "metadata": {},
   "source": [
    "Light emits radiation. Our eyes can only receive a certain range of radiation as visible light."
   ]
  },
  {
   "cell_type": "code",
   "execution_count": null,
   "id": "joint-duncan",
   "metadata": {},
   "outputs": [],
   "source": [
    "run CUSHIONS/3.1.py"
   ]
  },
  {
   "cell_type": "markdown",
   "id": "sacred-diagram",
   "metadata": {},
   "source": [
    "From the first tutorial, we understand the photoelectric effect by electrons turning into photoelectrons. From the perspective of spectroscopy, the electron absorb the light and leave black bars."
   ]
  },
  {
   "cell_type": "code",
   "execution_count": null,
   "id": "duplicate-present",
   "metadata": {},
   "outputs": [],
   "source": [
    "from IPython.display import Image\n",
    "Image(\"CUSHIONS/3.2.png\")"
   ]
  },
  {
   "cell_type": "markdown",
   "id": "major-sustainability",
   "metadata": {},
   "source": [
    "The wavelength of black bars help us to understand the amount and energy level of different chemical elemenets. Space exploration use these information to determine the chemical elements of distanced planet, with mere radiation that reach earth."
   ]
  },
  {
   "cell_type": "markdown",
   "id": "pressed-disney",
   "metadata": {},
   "source": [
    "# 3.2 Particles As Spins"
   ]
  },
  {
   "cell_type": "markdown",
   "id": "canadian-glenn",
   "metadata": {},
   "source": [
    "Other than energy level of electrons, they have another fundamental property called spins, except they are not really spinning. \n",
    "\n",
    "In the Stern-Gerlach experiment in 1922, a beam of silver atoms were sent through an inhomogeneous magnetic field for observing their deflection. \n",
    "\n",
    "As assumed electrons spin in different pole angles of electromagnetic waves with different angular momentum, the magnet would alter the projection target in different degrees. \n",
    "\n",
    "<div><img src=\"CUSHIONS/3.3.jpg\" width=\"450\"/></div>\n"
   ]
  },
  {
   "cell_type": "markdown",
   "id": "printable-surrey",
   "metadata": {},
   "source": [
    "The experiment suggested otherwise. Instead of evenly distribution of electrons in different angles, there seem to be only spinning 50% \"up\" and 50% \"down\".\n",
    "\n",
    "<div><img src=\"CUSHIONS/3.4.png\" width=\"450\"/></div>\n",
    "\n",
    "<p style=\"line-height: 1.7; font-family: Arial; font-size:1em;color:blue;\"> Up and down as in making an observation on planet Earth? </p>\n",
    "\n",
    "Yes as in on a cosmic body.\n",
    "\n",
    "Anyhow we concluded a fundamental property of electron spin, up and down, which can be manipulated for either direction."
   ]
  },
  {
   "cell_type": "markdown",
   "id": "false-fitting",
   "metadata": {},
   "source": [
    "# 3.3 Sync Two Particles"
   ]
  },
  {
   "cell_type": "markdown",
   "id": "liquid-duplicate",
   "metadata": {},
   "source": [
    "If we can measure and change the property of chemical elements, it is possible to encode these states for real life applications. \n",
    "\n",
    "Let's say lowest energy level, or ground state, of an atom as 0; and level 1, or excitement state, as 1. Similarly we can encode electron spinning up as 1 and spinning down as 0. By translating into binary, we can encode an atom for computational purpose, or qubit.\n",
    "\n",
    "Researchers can generate pairs of qubits that are “entangled,” which means the two members of a pair exist in a single quantum state (measured by spin). Changing the state of one of the qubits will instantaneously change the state of the other one in a predictable way. This happens even if they are separated by very long distances.\n",
    "\n",
    "<div><img src=\"CUSHIONS/3.5.gif\" width=\"450\"/></div>\n",
    "\n",
    "Nobody really knows quite how or why entanglement works. It even baffled Einstein, who famously described it as “spooky action at a distance.” But it’s key to the power of quantum computers. \n",
    "\n",
    "<p style=\"line-height: 1.7; font-family: Arial; font-size:1em;color:blue;\"> Hold on. How can we determine two particles as seperate entities instead of parts of a \"larger\" system? Two cells of biological bodies are distinguishable but doesn't mean they are not \"in the same part\". </p>\n",
    "\n",
    "Some even argue they are the same particle under superposition in our observable space. But this cannot be yet proven, and there is an underlying problem of using metaphors of larger systems, such as biological cells, that cannot translate quantum property (such as wave interference). Not saying human body can overarch the probability of quantum nature, but the chance of you entangling with other large particle compositions is too slight to come in effect.\n",
    "\n",
    "<div><img src=\"CUSHIONS/3.7.gif\" width=\"450\"/></div>\n",
    "\n",
    "Back to computing, two bits in your computer can be in four possible states (00, 01, 10, or 11), but only one of them at any time. This limits the computer to processing one input at a time (like trying one corridor in the maze).\n",
    "\n",
    "In a quantum computer, two qubits can also represent the exact same four states (00, 01, 10, or 11). The difference is, because of superposition, the qubits can represent all four at the same time. That’s a bit like having four regular computers running side-by-side.\n",
    "\n",
    "<div><img src=\"CUSHIONS/3.8.gif\" width=\"450\"/></div>\n",
    "\n",
    "While classical 2 to the power 64 can compute 18,446,744,073,709,600,000 possibilities one at a time, quantum computing with 64 qubits can calculate all possibilities simultaneously, in theory. "
   ]
  },
  {
   "cell_type": "markdown",
   "id": "3a7a6aba-964f-4375-8b55-5d301fc8307e",
   "metadata": {},
   "source": [
    "# 3.4 Qubits"
   ]
  },
  {
   "cell_type": "markdown",
   "id": "33548be1-9324-446a-b05e-efc63635fd5e",
   "metadata": {},
   "source": [
    "If we are encoding particles for computational purpose, it also means quantum computer is more prone to \"physical nature\".\n",
    "\n",
    "<p style=\"line-height: 1.7; font-family: Arial; font-size:1em;color:blue;\"> Does that mean we have more accurate simulation of physical models like molecular structure? </p>\n",
    "\n",
    "It's partly true that quantum computers are for special calculation, but our goal is to design universal computing macine where it can perform general tasks.\n",
    "\n",
    "That said, we need to understand how qubits work. In our context of open source learning, we pick IBM Qiskit as a demonstration with superconducting qubit. \n",
    "\n",
    "From our second tutorial, we have examined the probability nature of electrons, and we have discussed spins that are determined by measurement. \n",
    "\n",
    "But there's a catch, the probability of particles can be manipulated by weight, and all these combined possibilities are called superposition.\n",
    "\n",
    "<div><img src=\"CUSHIONS/3.6.gif\" width=\"450\"/></div>\n",
    "\n",
    "As superposition contains the possibility of spinning up $∣0⟩$ and spinning down $∣1⟩$, we use the bra-ket notation to represent different possibilities and changes overtime:\n",
    "\n",
    "$$|\\psi\\rangle_{\\text{electron}} = a|0\\rangle + b|1\\rangle$$\n",
    "\n",
    "Qubits can be in a superposition of both the basis states $∣0⟩$ and $∣1⟩$. When a qubit is measured (to be more precise: only observables can be measured), the qubit will collapse to one of its eigenstates and the measured value will reflect that state. \n",
    "\n",
    "For example, when a qubit is in a superposition state of equal weights, a measurement will make it collapse to one of its two basis states $∣0⟩$ and $∣1⟩$ with an equal probability of 50%. $∣0⟩$ is the state that when measured, and therefore collapsed, will always give the result 0. Similarly, $∣1⟩$ will always convert to 1. \n",
    "\n",
    "We could use the bloch sphere from qiskit library to represent different state of an qubit:"
   ]
  },
  {
   "cell_type": "code",
   "execution_count": null,
   "id": "05317c64-11e4-44dd-ac8c-99c2c7108c3f",
   "metadata": {},
   "outputs": [],
   "source": [
    "%%capture\n",
    "pip install git+https://github.com/qiskit-community/qiskit-textbook.git#subdirectory=qiskit-textbook-src"
   ]
  },
  {
   "cell_type": "code",
   "execution_count": null,
   "id": "755a3e18-0259-46e7-83fe-b1c7ee5aa981",
   "metadata": {},
   "outputs": [],
   "source": [
    "%%capture\n",
    "pip install numexpr scipy"
   ]
  },
  {
   "cell_type": "code",
   "execution_count": null,
   "id": "ed0f99bd-71c4-43bc-930f-b1d045818064",
   "metadata": {},
   "outputs": [],
   "source": [
    "import scipy\n",
    "from qiskit_textbook.widgets import plot_bloch_vector_spherical\n",
    "coords = [scipy.pi/2,0,1] # [Theta, Phi, Radius]\n",
    "plot_bloch_vector_spherical(coords) # Bloch Vector with spherical coordinates"
   ]
  },
  {
   "cell_type": "markdown",
   "id": "4bcafb35-0814-4ffc-9ea8-9a597560e8a2",
   "metadata": {},
   "source": [
    "In IBM and Google quantum"
   ]
  },
  {
   "cell_type": "markdown",
   "id": "protected-doctor",
   "metadata": {},
   "source": [
    "# 3.4 Quantum Gate"
   ]
  },
  {
   "cell_type": "markdown",
   "id": "05cd909b-78be-465b-a5fb-37d5a6b1a3da",
   "metadata": {},
   "source": [
    "Once we can use atoms as computable objects, we could also use physical properties to construct different logic gates. Let's use X-gate as an example. It is also known as Pauli-gate as it exploit the Pauli exclusion principle of electrons that no fermions would sit on the same energy level, which is also the reason why we don't fall through our armchairs. \n",
    "\n",
    "We can represent the gate as:\n",
    "\n",
    "$$X = \\begin{bmatrix} 0 & 1 \\\\ 1 & 0 \\end{bmatrix} = |0\\rangle\\langle1| + |1\\rangle\\langle0|$$\n",
    "\n",
    "We can see that the X-gate switches the amplitudes of the states |0⟩ and |1⟩:\n",
    "\n",
    "$$X|0\\rangle = \\begin{bmatrix} 0 & 1 \\\\ 1 & 0 \\end{bmatrix}\\begin{bmatrix} 1 \\\\ 0 \\end{bmatrix} = \\begin{bmatrix} 0 \\\\ 1 \\end{bmatrix} = |1\\rangle$$\n",
    "\n",
    "Basically flipping from 0 to 1 of qubit."
   ]
  },
  {
   "cell_type": "markdown",
   "id": "3e3a0215-a885-4c97-ba6a-644c3658510a",
   "metadata": {},
   "source": []
  }
 ],
 "metadata": {
  "kernelspec": {
   "display_name": "Python 3",
   "language": "python",
   "name": "python3"
  },
  "language_info": {
   "codemirror_mode": {
    "name": "ipython",
    "version": 3
   },
   "file_extension": ".py",
   "mimetype": "text/x-python",
   "name": "python",
   "nbconvert_exporter": "python",
   "pygments_lexer": "ipython3",
   "version": "3.9.5"
  }
 },
 "nbformat": 4,
 "nbformat_minor": 5
}
