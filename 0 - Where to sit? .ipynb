{
 "cells": [
  {
   "cell_type": "markdown",
   "id": "84ddc533-131c-48c1-82c6-774a2186c563",
   "metadata": {
    "tags": []
   },
   "source": [
    "<div><img src=\"CUSHIONS/ArmchairQuantum.png\" width=\"800\"/></div>\n",
    "\n",
    "# Why are we learning quantum computational chemistry?\n",
    "\n",
    "In early stage development, quantum computers are built for specialised calculations. As quantum computer hardware are designed disparately to classical computers, it is essential for programmers to understand the fundamental of quantum physics and chemistry in order to make sense of developing better algorithms. \n",
    "\n",
    "Out of various quantum computer applications, such as quantum AI, quantum optics, and financial analysis, using quantum computing for chemical simulation is amongst the most suitable to establish solid foundation for knowledge building. It is due to the fundamental principle of quantum computing is ruled by quantum physics and chemical behavior, where understanding quantum computing can directly apply on advance chemical simulation.\n",
    "\n",
    "<div><img src=\"CUSHIONS/0.3.jpg\" width=\"550\"/></div>\n",
    "\n",
    "This learning notebook is designed for learners from all backgrounds. Our aim is to engage with those with zero technical experience and provide a roadmap to quantum computing and chemical simulation. Yet, we cannot progress and improve without your valuable feedback, do reach out!"
   ]
  },
  {
   "cell_type": "markdown",
   "id": "8a40b7b5-1abc-47c0-b5a5-32234e802189",
   "metadata": {},
   "source": [
    "# What do we cover?"
   ]
  },
  {
   "cell_type": "markdown",
   "id": "38c32661-0099-4713-bc5a-0061ac430fdf",
   "metadata": {},
   "source": [
    "Jupyter Notebook and Lab are platforms for building programmable notebook. You can hit `shift` + `enter` to run each the code for each cell. The cell below will connect to our syllabus on Miro through HTML plugin codes."
   ]
  },
  {
   "cell_type": "code",
   "execution_count": null,
   "id": "44a5162e-9b52-4f5a-8a62-29f113f37acf",
   "metadata": {},
   "outputs": [],
   "source": [
    "%%html\n",
    "<iframe width=\"800\" height=\"450\" src=\"https://miro.com/app/live-embed/o9J_l4ZB7GA=/?moveToViewport=-5227,-1012,9386,4643\" frameBorder=\"0\" scrolling=\"no\" allowFullScreen></iframe>"
   ]
  },
  {
   "cell_type": "markdown",
   "id": "25f3155e-a927-4e5d-b2aa-c50e4c7a4183",
   "metadata": {},
   "source": [
    "# Tutorial Narrators\n",
    "<div style=\"text-align:left;\" ><div style=\"color:black;white-space: nowrap; display:inline;\"> All tutorials will be guided by three narrative guides documented in Black text for the armchair assistant, </div> <div style=\"color:blue;white-space: nowrap;overflow: hidden; display:inline;\n",
    "text-overflow: ellipsis;\"> Blue text from the armchair commentator,</div> <div style=\"color:green;white-space: nowrap; display:inline;\"> and Green text from the armchair consultant.</div>\n",
    "</div>\n",
    "<p></p>"
   ]
  }
 ],
 "metadata": {
  "kernelspec": {
   "display_name": "Python 3",
   "language": "python",
   "name": "python3"
  },
  "language_info": {
   "codemirror_mode": {
    "name": "ipython",
    "version": 3
   },
   "file_extension": ".py",
   "mimetype": "text/x-python",
   "name": "python",
   "nbconvert_exporter": "python",
   "pygments_lexer": "ipython3",
   "version": "3.9.5"
  },
  "toc-autonumbering": false,
  "toc-showcode": false,
  "toc-showmarkdowntxt": false
 },
 "nbformat": 4,
 "nbformat_minor": 5
}
