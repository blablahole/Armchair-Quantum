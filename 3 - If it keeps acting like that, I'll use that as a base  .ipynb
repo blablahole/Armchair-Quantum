{
 "cells": [
  {
   "cell_type": "markdown",
   "id": "1eb7bc3f-91e6-45db-a320-e128ad4a6500",
   "metadata": {},
   "source": [
    "# 3.1 Particles As Radiation"
   ]
  },
  {
   "cell_type": "markdown",
   "id": "e32deb9b-d297-4c9c-b49b-26ad4623a257",
   "metadata": {},
   "source": [
    "Light emits radiation. Our eyes can only receive a certain range of radiation as visible light."
   ]
  },
  {
   "cell_type": "code",
   "execution_count": null,
   "id": "17999e69-41fd-4bce-91fc-34097ea0ac38",
   "metadata": {},
   "outputs": [],
   "source": [
    "run CUSHIONS/3.1.py"
   ]
  },
  {
   "cell_type": "markdown",
   "id": "04213dc2-4cab-4310-905b-542bee51d3ad",
   "metadata": {},
   "source": [
    "From the first tutorial, we understand the photoelectric effect by electrons turning into photoelectrons. From the perspective of spectroscopy, the electron absorb the light and leave black bars."
   ]
  },
  {
   "cell_type": "code",
   "execution_count": null,
   "id": "2ebc111a-0f12-476f-b973-ccf5a815f06a",
   "metadata": {},
   "outputs": [],
   "source": [
    "from IPython.display import Image\n",
    "Image(\"CUSHIONS/3.2.png\")"
   ]
  },
  {
   "cell_type": "markdown",
   "id": "9d08f890-ea9b-4087-a26e-e27649b11aab",
   "metadata": {},
   "source": [
    "The wavelength of black bars help us to understand the amount and energy level of different chemical elemenets. Space exploration use these information to determine the chemical elements of distanced planet, with mere radiation that reach earth."
   ]
  },
  {
   "cell_type": "markdown",
   "id": "f180c6f2-f3fe-4690-aad5-4bbc909af9a2",
   "metadata": {},
   "source": [
    "# 3.2 Particles As Spins"
   ]
  },
  {
   "cell_type": "markdown",
   "id": "0de9b449-fe50-43cb-af29-98bb9b5ad34f",
   "metadata": {},
   "source": []
  },
  {
   "cell_type": "markdown",
   "id": "b7cb7eea-8f25-4347-b917-0a53ddd41245",
   "metadata": {},
   "source": [
    "# 3.3 Qubits"
   ]
  },
  {
   "cell_type": "markdown",
   "id": "daa7b374-23b1-4c3c-b92a-b70b11a0fc73",
   "metadata": {},
   "source": [
    "If we can measure and change the energy level of chemical elements, it is possible to encode these levels for applications. \n",
    "\n",
    "Let's say lowest energy level, or ground state, of an atom as 0; and level 1, or excitement state, as 1. Then we can encode an atom for computational purpose. "
   ]
  },
  {
   "cell_type": "code",
   "execution_count": null,
   "id": "c376fb4a-e8e3-4a2d-88e5-f2ba1d9b282c",
   "metadata": {},
   "outputs": [],
   "source": [
    "%%capture\n",
    "pip install git+https://github.com/qiskit-community/qiskit-textbook.git#subdirectory=qiskit-textbook-src"
   ]
  },
  {
   "cell_type": "code",
   "execution_count": null,
   "id": "fba93a99-159d-42d4-95e8-d91901387f7b",
   "metadata": {},
   "outputs": [],
   "source": [
    "%%capture\n",
    "pip install numexpr scipy"
   ]
  },
  {
   "cell_type": "code",
   "execution_count": null,
   "id": "cff0c862-33ea-43d5-9369-c6f9c5b28ee4",
   "metadata": {},
   "outputs": [],
   "source": [
    "import scipy\n",
    "from qiskit_textbook.widgets import plot_bloch_vector_spherical\n",
    "coords = [scipy.pi/2,0,1] # [Theta, Phi, Radius]\n",
    "plot_bloch_vector_spherical(coords) # Bloch Vector with spherical coordinates\n"
   ]
  },
  {
   "cell_type": "markdown",
   "id": "88477001-eb0c-4d5f-aacf-1e2d695393b2",
   "metadata": {},
   "source": [
    "# 3.4 Quantum Gate"
   ]
  },
  {
   "cell_type": "code",
   "execution_count": null,
   "id": "0d3886ba-5a89-4a93-a2eb-fb61f94b77da",
   "metadata": {},
   "outputs": [],
   "source": []
  }
 ],
 "metadata": {
  "kernelspec": {
   "display_name": "Python 3",
   "language": "python",
   "name": "python3"
  },
  "language_info": {
   "codemirror_mode": {
    "name": "ipython",
    "version": 3
   },
   "file_extension": ".py",
   "mimetype": "text/x-python",
   "name": "python",
   "nbconvert_exporter": "python",
   "pygments_lexer": "ipython3",
   "version": "3.9.5"
  }
 },
 "nbformat": 4,
 "nbformat_minor": 5
}
