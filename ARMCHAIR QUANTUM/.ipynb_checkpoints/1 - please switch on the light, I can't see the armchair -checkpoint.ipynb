{
 "cells": [
  {
   "cell_type": "markdown",
   "metadata": {},
   "source": [
    "# Can't see in the dark? Hit `Shift` + `Enter` four times."
   ]
  },
  {
   "cell_type": "code",
   "execution_count": null,
   "metadata": {},
   "outputs": [],
   "source": [
    "pip install jupyterthemes"
   ]
  },
  {
   "cell_type": "code",
   "execution_count": null,
   "metadata": {},
   "outputs": [],
   "source": [
    "from jupyterthemes import get_themes\n",
    "import jupyterthemes as jt\n",
    "from jupyterthemes.stylefx import set_nb_theme\n",
    "set_nb_theme('oceans16')"
   ]
  },
  {
   "cell_type": "code",
   "execution_count": null,
   "metadata": {},
   "outputs": [],
   "source": [
    "from IPython.display import Image\n",
    "Image(\"img/1.0.png\")"
   ]
  },
  {
   "cell_type": "markdown",
   "metadata": {},
   "source": [
    "# *But that's not an armchair*\n",
    "\n",
    "# Slow down, we are switching the light too fast. Try again to buff the emission. By the way that's a tiny chair with 3 mm width"
   ]
  },
  {
   "cell_type": "code",
   "execution_count": null,
   "metadata": {
    "scrolled": true
   },
   "outputs": [],
   "source": [
    "Image(\"img/1.1.png\")"
   ]
  },
  {
   "cell_type": "markdown",
   "metadata": {},
   "source": [
    "# *Okay two light bars are gone and replaced by... more light bars, but how?*\n",
    "\n",
    "# Good observation! Let's check out how waves interfere each other!"
   ]
  },
  {
   "cell_type": "code",
   "execution_count": null,
   "metadata": {},
   "outputs": [],
   "source": [
    "# We will use numpy library for numeric calculation and matplotlib for data visualisation \n",
    "pip install numpy matplotlib"
   ]
  },
  {
   "cell_type": "code",
   "execution_count": null,
   "metadata": {},
   "outputs": [],
   "source": [
    "# Import these programming libraries to this notebook, and give them nicknames so we could call them easily\n",
    "import numpy as np\n",
    "from matplotlib import pyplot as plt"
   ]
  },
  {
   "cell_type": "code",
   "execution_count": null,
   "metadata": {},
   "outputs": [],
   "source": [
    "# Setting up our space in a graph from an areal view \n",
    "xmin, xmax = 0, 10\n",
    "ymin, ymax = -5, 5\n",
    "\n",
    "xpoints, ypoints = 200, 200\n",
    "\n",
    "x = np.linspace(xmin, xmax, xpoints)\n",
    "y = np.linspace(ymin, ymax, ypoints)\n",
    "\n",
    "xx, yy = np.meshgrid(x, y, sparse = False)\n",
    "\n",
    "points = np.concatenate([xx.reshape(-1, 1), yy.reshape(-1, 1)], axis=-1)\n",
    "points"
   ]
  },
  {
   "cell_type": "code",
   "execution_count": null,
   "metadata": {},
   "outputs": [],
   "source": [
    "source1=np.array([0, 0.5])\n",
    "source2=np.array([0, -0.5])"
   ]
  },
  {
   "cell_type": "code",
   "execution_count": null,
   "metadata": {},
   "outputs": [],
   "source": [
    "points1 = points - source1\n",
    "points2 = points - source2\n",
    "\n",
    "A1= 4\n",
    "A2= 4\n",
    "k = 20\n",
    "\n",
    "wave1 = A1*(np.sin( k * (points1[:, 0]**2 + points1[:, 1]**2)**0.5))\n",
    "wave2 = A2*(np.sin( k * (points2[:, 0]**2 + points2[:, 1]**2)**0.5))\n",
    "\n",
    "# superposition of two waves\n",
    "\n",
    "A = (wave1 + wave2)\n",
    "intensity = A**2\n",
    "\n",
    "#  constructive, destructive"
   ]
  },
  {
   "cell_type": "code",
   "execution_count": null,
   "metadata": {},
   "outputs": [],
   "source": [
    "plt.figure(figsize=(7, 7))\n",
    "plt.xlim(xmin, xmax)\n",
    "plt.ylim(ymin, ymax)\n",
    "\n",
    "plt.scatter(points[:, 0], points[:, 1], c = intensity, cmap=plt.cm.binary)\n",
    "\n",
    "plt.scatter(*source1, c='red')\n",
    "plt.scatter(*source2, c='red')"
   ]
  },
  {
   "cell_type": "code",
   "execution_count": null,
   "metadata": {},
   "outputs": [],
   "source": [
    "interval = 0.5\n",
    "radius = np.linspace(xmin, xmax, int((xmax-xmin)/interval))\n",
    "velocity = 0.2"
   ]
  },
  {
   "cell_type": "code",
   "execution_count": null,
   "metadata": {},
   "outputs": [],
   "source": [
    "from IPython.display import display, clear_output\n",
    "plt.style.use('dark_background')\n",
    "\n",
    "fig, ax = plt.subplots(figsize=(7, 7))\n",
    "plt.xlim(xmin, xmax-1)\n",
    "plt.ylim(ymin, ymax)\n",
    "\n",
    "cs1, cs2 = [], []\n",
    "\n",
    "for r in radius:\n",
    "  circle1=plt.Circle(source1, r, facecolor=(1, 0, 0, 0), edgecolor='red')\n",
    "  cs1.append(ax.add_artist(circle1))\n",
    "\n",
    "  circle2=plt.Circle(source2, r, facecolor=(1, 0, 0, 0), edgecolor='yellow')\n",
    "  cs2.append(ax.add_artist(circle2))\n",
    "\n",
    "plt.scatter(*source1, c='white')\n",
    "plt.scatter(*source2, c='white')\n",
    "\n",
    "for i in range(10000):\n",
    "  [c.set_radius(radius[i]) for i, c in enumerate(cs1)]\n",
    "  [c.set_radius(radius[i]) for i, c in enumerate(cs2)]\n",
    "  radius = (radius + velocity)%(xmax-xmin)\n",
    "  clear_output(wait=True)\n",
    "  display(fig)"
   ]
  },
  {
   "cell_type": "markdown",
   "metadata": {},
   "source": [
    "# Photoelectric Effect\n",
    "\n",
    "Energy of photon = Plank's constant x frequency (amplitude passing a measured point)\n",
    "E_photon = h x v"
   ]
  },
  {
   "cell_type": "code",
   "execution_count": null,
   "metadata": {},
   "outputs": [],
   "source": [
    "import scipy.constants as constant\n",
    "print (constant.pi)"
   ]
  },
  {
   "cell_type": "code",
   "execution_count": null,
   "metadata": {},
   "outputs": [],
   "source": [
    "import h5py\n",
    "import os\n",
    "import meep\n",
    "from pathlib import Path"
   ]
  },
  {
   "cell_type": "code",
   "execution_count": null,
   "metadata": {},
   "outputs": [],
   "source": [
    "%run -t _light_sources"
   ]
  },
  {
   "cell_type": "code",
   "execution_count": null,
   "metadata": {},
   "outputs": [],
   "source": [
    "%run -i '_double_slit_simulator.py'\n",
    "%run -i '_visualization.py'\n",
    "%run -i '_vector3.py'\n",
    "\n",
    "\n",
    "\n",
    "double_slit_simulation(light_source = Gaussian_source(position = mp._Vector3(1,0,0),\n",
    "                                                      direction = mp._Vector3(1,0,0),\n",
    "                                                      λ=0.65,\n",
    "                                                      beam_width = 11),\n",
    "                       extent = [0,60 , 15, -15],\n",
    "                       aperture_width = 2.,\n",
    "                       aperture_depth = 0.5,\n",
    "                       aperture_distance = 30,\n",
    "                       aperture_separation = 3,\n",
    "                       pixels_per_wavelength = 10,\n",
    "                       total_femtoseconds = 300,\n",
    "                       number_of_frames = 50,\n",
    "                       complex_average = False,\n",
    "                       simulation_name = \"simulation_coherent_femtoseconds.h5\")\n",
    "\n",
    "visualize(simulation_name = \"simulation_coherent_femtoseconds.h5\",\n",
    "\t\t      max_colormap_factor = 1.)"
   ]
  },
  {
   "cell_type": "code",
   "execution_count": null,
   "metadata": {},
   "outputs": [],
   "source": []
  }
 ],
 "metadata": {
  "kernelspec": {
   "display_name": "Python 3",
   "language": "python",
   "name": "python3"
  },
  "language_info": {
   "codemirror_mode": {
    "name": "ipython",
    "version": 3
   },
   "file_extension": ".py",
   "mimetype": "text/x-python",
   "name": "python",
   "nbconvert_exporter": "python",
   "pygments_lexer": "ipython3",
   "version": "3.9.2"
  }
 },
 "nbformat": 4,
 "nbformat_minor": 4
}
