{
 "cells": [
  {
   "cell_type": "markdown",
   "metadata": {},
   "source": [
    "# Can't see in the dark? Hit `shift` + `enter` twice."
   ]
  },
  {
   "cell_type": "code",
   "execution_count": 1,
   "metadata": {},
   "outputs": [
    {
     "ename": "SyntaxError",
     "evalue": "unexpected EOF while parsing (<ipython-input-1-c5cd1162fd48>, line 2)",
     "output_type": "error",
     "traceback": [
      "\u001b[0;36m  File \u001b[0;32m\"<ipython-input-1-c5cd1162fd48>\"\u001b[0;36m, line \u001b[0;32m2\u001b[0m\n\u001b[0;31m    Image(\"img/1.0.png\"\u001b[0m\n\u001b[0m                       ^\u001b[0m\n\u001b[0;31mSyntaxError\u001b[0m\u001b[0;31m:\u001b[0m unexpected EOF while parsing\n"
     ]
    }
   ],
   "source": [
    "from IPython.display import Image\n",
    "Image(\"img/1.0.png\")"
   ]
  },
  {
   "cell_type": "markdown",
   "metadata": {},
   "source": [
    "# Ta-da! A mini copper chair with 3 mm width! \n",
    "$\\;$\n",
    "\n",
    "<p style=\"margin-left: 0.3em; font-family: Arial; font-style: italic; font-size:2em;color:orange;\"> But that's not an armchair </p>\n",
    "\n",
    "$\\;$\n",
    "\n",
    "# Don't rush, hit `shift` + `enter` again to reduce light emission"
   ]
  },
  {
   "cell_type": "code",
   "execution_count": 2,
   "metadata": {
    "scrolled": true
   },
   "outputs": [
    {
     "ename": "SyntaxError",
     "evalue": "unexpected EOF while parsing (<ipython-input-2-d14e021363af>, line 1)",
     "output_type": "error",
     "traceback": [
      "\u001b[0;36m  File \u001b[0;32m\"<ipython-input-2-d14e021363af>\"\u001b[0;36m, line \u001b[0;32m1\u001b[0m\n\u001b[0;31m    Image(\"img/1.1.png\"\u001b[0m\n\u001b[0m                       ^\u001b[0m\n\u001b[0;31mSyntaxError\u001b[0m\u001b[0;31m:\u001b[0m unexpected EOF while parsing\n"
     ]
    }
   ],
   "source": [
    "Image(\"img/1.1.png\")"
   ]
  },
  {
   "cell_type": "markdown",
   "metadata": {},
   "source": [
    "<p style=\"margin-left: 0.3em;line-height: 1; font-family: Arial; font-style: italic; font-size:2em;color:orange;\"> Well two light bars are replaced by... more light bars. Why is there a wave-like pattern? </p>\n",
    "\n",
    "$\\;$\n",
    "Spot on! Mate you should definitely check out how waves interfere each other, which can be simulated with Python\n",
    "\n",
    "$\\;$\n",
    "# Press `shift` + `enter` to proceed step by step"
   ]
  },
  {
   "cell_type": "code",
   "execution_count": 3,
   "metadata": {},
   "outputs": [
    {
     "ename": "SyntaxError",
     "evalue": "invalid syntax (<ipython-input-3-01ec929cf9c3>, line 2)",
     "output_type": "error",
     "traceback": [
      "\u001b[0;36m  File \u001b[0;32m\"<ipython-input-3-01ec929cf9c3>\"\u001b[0;36m, line \u001b[0;32m2\u001b[0m\n\u001b[0;31m    pip install numpy matplotlib\u001b[0m\n\u001b[0m        ^\u001b[0m\n\u001b[0;31mSyntaxError\u001b[0m\u001b[0;31m:\u001b[0m invalid syntax\n"
     ]
    }
   ],
   "source": [
    "# Numpy library for numeric calculation and matplotlib for data visualisation \n",
    "pip install numpy matplotlib"
   ]
  },
  {
   "cell_type": "code",
   "execution_count": null,
   "metadata": {},
   "outputs": [],
   "source": [
    "# Import these programming libraries to this notebook\n",
    "import numpy as np\n",
    "from matplotlib import pyplot as plt"
   ]
  },
  {
   "cell_type": "code",
   "execution_count": null,
   "metadata": {},
   "outputs": [],
   "source": [
    "# Setting up our simulated space from an aerial view in 2D\n",
    "\n",
    "# Area setting \n",
    "xmin, xmax = 0, 10\n",
    "ymin, ymax = -5, 5\n",
    "xpoints, ypoints = 200, 200\n",
    "x = np.linspace(xmin, xmax, xpoints)\n",
    "y = np.linspace(ymin, ymax, ypoints)\n",
    "\n",
    "# meshgrid function can create a rectangular grid out of two given one-dimensional arrays\n",
    "xx, yy = np.meshgrid(x, y, sparse = False)\n",
    "\n",
    "# Join these arrays along the axis\n",
    "points = np.concatenate([xx.reshape(-1, 1), yy.reshape(-1, 1)], axis=-1)\n",
    "points\n",
    "\n",
    "# Now we have a matrix space represented with grid!"
   ]
  },
  {
   "cell_type": "code",
   "execution_count": null,
   "metadata": {},
   "outputs": [],
   "source": [
    "# Assigning arrays to create waves \n",
    "\n",
    "source1=np.array([0, 0.5])\n",
    "source2=np.array([0, -0.5])\n",
    "points1 = points - source1\n",
    "points2 = points - source2\n",
    "\n",
    "A1= 4\n",
    "A2= 4\n",
    "k = 20\n",
    "\n",
    "wave1 = A1*(np.sin( k * (points1[:, 0]**2 + points1[:, 1]**2)**0.5))\n",
    "wave2 = A2*(np.sin( k * (points2[:, 0]**2 + points2[:, 1]**2)**0.5))\n",
    "\n",
    "# superposition of two waves\n",
    "\n",
    "A = (wave1 + wave2)\n",
    "intensity = A**2"
   ]
  },
  {
   "cell_type": "code",
   "execution_count": null,
   "metadata": {},
   "outputs": [],
   "source": [
    "# Let's visualise the light waves \n",
    "\n",
    "plt.figure(figsize=(7, 7))\n",
    "plt.xlim(xmin, xmax)\n",
    "plt.ylim(ymin, ymax)\n",
    "\n",
    "plt.scatter(points[:, 0], points[:, 1], c = intensity, cmap=plt.cm.binary)\n",
    "\n",
    "plt.scatter(*source1, c='blue')\n",
    "plt.scatter(*source2, c='blue')\n",
    "\n",
    "# The white areas are where waves overlap each other "
   ]
  },
  {
   "cell_type": "code",
   "execution_count": null,
   "metadata": {},
   "outputs": [],
   "source": [
    "# We could animate this phenomenon to put things into action\n",
    "\n",
    "interval = 0.5\n",
    "radius = np.linspace(xmin, xmax, int((xmax-xmin)/interval))\n",
    "velocity = 0.2"
   ]
  },
  {
   "cell_type": "code",
   "execution_count": null,
   "metadata": {},
   "outputs": [],
   "source": [
    "# Python interactive display \n",
    "from IPython.display import display, clear_output\n",
    "plt.style.use('dark_background')\n",
    "\n",
    "fig, ax = plt.subplots(figsize=(7, 7))\n",
    "plt.xlim(xmin, xmax-1)\n",
    "plt.ylim(ymin, ymax)\n",
    "\n",
    "cs1, cs2 = [], []\n",
    "\n",
    "# Setting Wave 1 and Wave 2 \n",
    "for r in radius:\n",
    "  circle1=plt.Circle(source1, r, facecolor=(1, 0, 0, 0), edgecolor='red')\n",
    "  cs1.append(ax.add_artist(circle1))\n",
    "\n",
    "  circle2=plt.Circle(source2, r, facecolor=(1, 0, 0, 0), edgecolor='yellow')\n",
    "  cs2.append(ax.add_artist(circle2))\n",
    "\n",
    "plt.scatter(*source1, c='white')\n",
    "plt.scatter(*source2, c='white')\n",
    "\n",
    "# Animation setting \n",
    "for i in range(10000):\n",
    "  [c.set_radius(radius[i]) for i, c in enumerate(cs1)]\n",
    "  [c.set_radius(radius[i]) for i, c in enumerate(cs2)]\n",
    "  radius = (radius + velocity)%(xmax-xmin)\n",
    "  clear_output(wait=True)\n",
    "  display(fig)\n",
    "\n",
    "# Python simulation designed by Sayan Dey, check out his work on https://sayan1999.github.io/"
   ]
  },
  {
   "cell_type": "markdown",
   "metadata": {},
   "source": [
    "\n",
    "# If the overlapped parts of light emission are more concentrated than the rest, would that mean denser hit for their areas of target? \n",
    "$\\;$\n",
    "<div><img src=\"img/1.2.gif\" width=\"820\"/></div>\n",
    "\n",
    "<p style=\"margin-left: 1.2em;line-height: 1; font-family: Arial; font-style: italic; font-size:0.7em;color:#c4c4c4;\"> Animation excerpt from \"What the Bleep: Down the Rabbit Hole\" </p>\n",
    "$\\;$\n",
    "\n",
    "# The concept of light wave was first established in the Double Slit Experiment by Thomas Young in 1801, it suggested light travels in wave-like pathways \n",
    "$\\;$\n",
    "\n",
    "<div><img src=\"img/1.3.jpg\" width=\"820\"/></div>\n",
    "\n",
    "<p style=\"margin-left: 1.2em;line-height: 1; font-family: Arial; font-style: italic; font-size:0.7em;color:#c4c4c4;\"> The interference pattern observed by Young (Plate XXX, Fig. 442, A Course of Lectures on Natural Philosophy and the Mechanical Arts. Thomas Young, 1807). </p>\n",
    "$\\;$\n",
    "\n",
    "<p style=\"margin-left: 0.3em;line-height: 1; font-family: Arial; font-style: italic; font-size:2em;color:orange;\"> Hmm, would this interpretation falls into our reductionist tendency to explain pretty symmetric phenomenon? </p>\n",
    "$\\;$\n",
    "<p style=\"margin-left: 0.3em;line-height: 1; font-family: Arial; font-style: italic; font-size:2em;color:orange;\"> Like how we love cherry-picking obvious forms and proclaim them as truth.</p>\n",
    "$\\;$\n",
    "\n",
    "# Normally physicists would hate this kind of rabbit hole question, but your query actually leads to something weirder. \n",
    "$\\;$\n",
    "# Not one \"pretty\" discovery, but two, and they are contradicting each other.\n",
    "$\\;$\n",
    "# In order to speculate the second finding, we need zooming into our copper chair surface to the molecular level.\n"
   ]
  },
  {
   "cell_type": "code",
   "execution_count": null,
   "metadata": {},
   "outputs": [],
   "source": [
    "import numpy as np\n",
    "import matplotlib.pyplot as plt\n",
    "import matplotlib.animation as animation\n",
    "from matplotlib.widgets import Slider\n",
    "\n",
    "TWOPI = 2*np.pi\n",
    "\n",
    "fig, ax = plt.subplots()\n",
    "\n",
    "t = np.arange(0.0, TWOPI, 0.001)\n",
    "initial_amp = .5\n",
    "s = initial_amp*np.sin(t)\n",
    "l, = plt.plot(t, s, lw=2)\n",
    "\n",
    "ax = plt.axis([0,TWOPI,-1,1])\n",
    "\n",
    "axamp = plt.axes([0.25, .03, 0.50, 0.02])\n",
    "# Slider\n",
    "samp = Slider(axamp, 'Amp', 0, 1, valinit=initial_amp)\n",
    "\n",
    "# Animation controls\n",
    "is_manual = False # True if user has taken control of the animation\n",
    "interval = 100 # ms, time between animation frames\n",
    "loop_len = 5.0 # seconds per loop\n",
    "scale = interval / 1000 / loop_len\n",
    "\n",
    "def update_slider(val):\n",
    "    global is_manual\n",
    "    is_manual=True\n",
    "    update(val)\n",
    "\n",
    "def update(val):\n",
    "    # update curve\n",
    "    l.set_ydata(val*np.sin(t))\n",
    "    # redraw canvas while idle\n",
    "    fig.canvas.draw_idle()\n",
    "\n",
    "def update_plot(num):\n",
    "    global is_manual\n",
    "    if is_manual:\n",
    "        return l, # don't change\n",
    "\n",
    "    val = (samp.val + scale) % samp.valmax\n",
    "    samp.set_val(val)\n",
    "    is_manual = False # the above line called update_slider, so we need to reset this\n",
    "    return l,\n",
    "\n",
    "def on_click(event):\n",
    "    # Check where the click happened\n",
    "    (xm,ym),(xM,yM) = samp.label.clipbox.get_points()\n",
    "    if xm < event.x < xM and ym < event.y < yM:\n",
    "        # Event happened within the slider, ignore since it is handled in update_slider\n",
    "        return\n",
    "    else:\n",
    "        # user clicked somewhere else on canvas = unpause\n",
    "        global is_manual\n",
    "        is_manual=False\n",
    "\n",
    "# call update function on slider value change\n",
    "samp.on_changed(update_slider)\n",
    "\n",
    "fig.canvas.mpl_connect('button_press_event', on_click)\n",
    "\n",
    "ani = animation.FuncAnimation(fig, update_plot, interval=interval)\n",
    "\n",
    "plt.show()"
   ]
  },
  {
   "cell_type": "markdown",
   "metadata": {},
   "source": [
    "# Photoelectric Effect\n",
    "\n",
    "Energy of photon = Plank's constant x frequency (amplitude passing a measured point)\n",
    "E_photon = h x v"
   ]
  },
  {
   "cell_type": "code",
   "execution_count": null,
   "metadata": {},
   "outputs": [],
   "source": [
    "import scipy.constants as constant\n",
    "print (constant.pi)"
   ]
  },
  {
   "cell_type": "code",
   "execution_count": 6,
   "metadata": {},
   "outputs": [
    {
     "name": "stdout",
     "output_type": "stream",
     "text": [
      "6.62607015e-34\n",
      "299792458.0\n"
     ]
    }
   ],
   "source": [
    "import scipy.constants as constant\n",
    "print (constant.h)\n",
    "print (constant.c)\n",
    "\n",
    "#Variables and constants \n",
    "e = 1.602e-019; # Charge on an electron, C\n",
    "lamb = 1849e-010; # Wavelength of incident light, m\n",
    "V_0 = 2.72; # Stopping potential for emitted electrons, V"
   ]
  },
  {
   "cell_type": "code",
   "execution_count": 7,
   "metadata": {},
   "outputs": [
    {
     "name": "stdout",
     "output_type": "stream",
     "text": [
      "\n",
      "Threhold frequency for Cu metal = 963765830260000.0 Hz\n",
      "\n",
      "The work function of Cu metal =  4 eV\n",
      "\n",
      "The maximum kinetic energy of photoelectrons = 2.72 eV\n"
     ]
    }
   ],
   "source": [
    "import scipy.constants as constant\n",
    "from __future__ import division\n",
    "import math \n",
    "\n",
    "\n",
    "#Calculation\n",
    "f = constant.c/lamb; # Frequency of incident radiation , Hz\n",
    "E = constant.h*f; # Energy carried by one photon from Planck's law, J\n",
    "T_max = e*V_0; # Maximum kinetic energy of electrons, J\n",
    " # We have, T_max = E - h*f_0 = h*f - W\n",
    "f_0 = (-T_max + E )/h # Threshold frequency for Cu metal, Hz\n",
    "W = h*f_0/e; # Work function of Cu metal, eV\n",
    "\n",
    "#Result\n",
    "print(\"\\nThrehold frequency for Cu metal =\",round((f_0*10**-14),10)*10**14,\"Hz\")\n",
    "print(\"\\nThe work function of Cu metal = \",round(W),\"eV\")\n",
    "print(\"\\nThe maximum kinetic energy of photoelectrons =\",round(T_max/e,2),\"eV\")"
   ]
  },
  {
   "cell_type": "code",
   "execution_count": null,
   "metadata": {},
   "outputs": [],
   "source": []
  }
 ],
 "metadata": {
  "kernelspec": {
   "display_name": "Python 3",
   "language": "python",
   "name": "python3"
  },
  "language_info": {
   "codemirror_mode": {
    "name": "ipython",
    "version": 3
   },
   "file_extension": ".py",
   "mimetype": "text/x-python",
   "name": "python",
   "nbconvert_exporter": "python",
   "pygments_lexer": "ipython3",
   "version": "3.9.2"
  }
 },
 "nbformat": 4,
 "nbformat_minor": 4
}
