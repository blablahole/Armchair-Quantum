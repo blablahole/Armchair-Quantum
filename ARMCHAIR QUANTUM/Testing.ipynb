{
 "cells": [
  {
   "cell_type": "code",
   "execution_count": 5,
   "metadata": {},
   "outputs": [
    {
     "name": "stdout",
     "output_type": "stream",
     "text": [
      "Collecting qiskit\n",
      "  Using cached qiskit-0.24.0-py3-none-any.whl\n",
      "Requirement already satisfied: qiskit-aqua==0.8.2 in /usr/local/lib/python3.9/site-packages (from qiskit) (0.8.2)\n",
      "Requirement already satisfied: qiskit-terra==0.16.4 in /usr/local/lib/python3.9/site-packages (from qiskit) (0.16.4)\n",
      "Requirement already satisfied: qiskit-ignis==0.5.2 in /usr/local/lib/python3.9/site-packages (from qiskit) (0.5.2)\n",
      "Requirement already satisfied: qiskit-aer==0.7.6 in /usr/local/lib/python3.9/site-packages (from qiskit) (0.7.6)\n",
      "Requirement already satisfied: qiskit-ibmq-provider==0.12.1 in /usr/local/lib/python3.9/site-packages (from qiskit) (0.12.1)\n",
      "Requirement already satisfied: scipy>=1.0 in /usr/local/lib/python3.9/site-packages (from qiskit-aer==0.7.6->qiskit) (1.6.1)\n",
      "Requirement already satisfied: cython>=0.27.1 in /usr/local/lib/python3.9/site-packages (from qiskit-aer==0.7.6->qiskit) (0.29.22)\n",
      "Requirement already satisfied: pybind11>=2.4 in /usr/local/lib/python3.9/site-packages (from qiskit-aer==0.7.6->qiskit) (2.6.2)\n",
      "Requirement already satisfied: numpy>=1.16.3 in /usr/local/lib/python3.9/site-packages (from qiskit-aer==0.7.6->qiskit) (1.19.5)\n",
      "Requirement already satisfied: setuptools>=40.1.0 in /usr/local/lib/python3.9/site-packages (from qiskit-aqua==0.8.2->qiskit) (53.0.0)\n",
      "Requirement already satisfied: yfinance in /usr/local/lib/python3.9/site-packages (from qiskit-aqua==0.8.2->qiskit) (0.1.55)\n",
      "Requirement already satisfied: sympy>=1.3 in /usr/local/lib/python3.9/site-packages (from qiskit-aqua==0.8.2->qiskit) (1.7.1)\n",
      "Requirement already satisfied: retworkx>=0.5.0 in /usr/local/lib/python3.9/site-packages (from qiskit-aqua==0.8.2->qiskit) (0.8.0)\n",
      "Requirement already satisfied: scikit-learn>=0.20.0 in /usr/local/lib/python3.9/site-packages (from qiskit-aqua==0.8.2->qiskit) (0.24.1)\n",
      "Requirement already satisfied: quandl in /usr/local/lib/python3.9/site-packages (from qiskit-aqua==0.8.2->qiskit) (3.6.1)\n",
      "Requirement already satisfied: dlx in /usr/local/lib/python3.9/site-packages (from qiskit-aqua==0.8.2->qiskit) (1.0.4)\n",
      "Requirement already satisfied: fastdtw in /usr/local/lib/python3.9/site-packages (from qiskit-aqua==0.8.2->qiskit) (0.3.4)\n",
      "Requirement already satisfied: psutil>=5 in /usr/local/lib/python3.9/site-packages (from qiskit-aqua==0.8.2->qiskit) (5.8.0)\n",
      "Requirement already satisfied: h5py in /usr/local/lib/python3.9/site-packages (from qiskit-aqua==0.8.2->qiskit) (3.2.1)\n",
      "Requirement already satisfied: docplex==2.15.194 in /usr/local/lib/python3.9/site-packages (from qiskit-aqua==0.8.2->qiskit) (2.15.194)\n",
      "Requirement already satisfied: pandas in /usr/local/lib/python3.9/site-packages (from qiskit-aqua==0.8.2->qiskit) (1.2.3)\n",
      "Requirement already satisfied: six in /usr/local/lib/python3.9/site-packages (from docplex==2.15.194->qiskit-aqua==0.8.2->qiskit) (1.15.0)\n",
      "Requirement already satisfied: requests in /usr/local/lib/python3.9/site-packages (from docplex==2.15.194->qiskit-aqua==0.8.2->qiskit) (2.25.1)\n",
      "Requirement already satisfied: nest-asyncio!=1.1.0,>=1.0.0 in /usr/local/lib/python3.9/site-packages (from qiskit-ibmq-provider==0.12.1->qiskit) (1.4.3)\n",
      "Requirement already satisfied: requests-ntlm>=1.1.0 in /usr/local/lib/python3.9/site-packages (from qiskit-ibmq-provider==0.12.1->qiskit) (1.1.0)\n",
      "Requirement already satisfied: python-dateutil>=2.8.0 in /usr/local/lib/python3.9/site-packages (from qiskit-ibmq-provider==0.12.1->qiskit) (2.8.1)\n",
      "Requirement already satisfied: websockets>=8 in /usr/local/lib/python3.9/site-packages (from qiskit-ibmq-provider==0.12.1->qiskit) (8.1)\n",
      "Requirement already satisfied: urllib3>=1.21.1 in /usr/local/lib/python3.9/site-packages (from qiskit-ibmq-provider==0.12.1->qiskit) (1.26.2)\n",
      "Requirement already satisfied: networkx>=2.2 in /usr/local/lib/python3.9/site-packages (from qiskit-ignis==0.5.2->qiskit) (2.5)\n",
      "Requirement already satisfied: jsonschema>=2.6 in /usr/local/lib/python3.9/site-packages (from qiskit-terra==0.16.4->qiskit) (3.2.0)\n",
      "Requirement already satisfied: fastjsonschema>=2.10 in /usr/local/lib/python3.9/site-packages (from qiskit-terra==0.16.4->qiskit) (2.15.0)\n",
      "Requirement already satisfied: python-constraint>=1.4 in /usr/local/lib/python3.9/site-packages (from qiskit-terra==0.16.4->qiskit) (1.4.0)\n",
      "Requirement already satisfied: ply>=3.10 in /usr/local/lib/python3.9/site-packages (from qiskit-terra==0.16.4->qiskit) (3.11)\n",
      "Requirement already satisfied: dill>=0.3 in /usr/local/lib/python3.9/site-packages (from qiskit-terra==0.16.4->qiskit) (0.3.3)\n",
      "Requirement already satisfied: pyrsistent>=0.14.0 in /usr/local/lib/python3.9/site-packages (from jsonschema>=2.6->qiskit-terra==0.16.4->qiskit) (0.17.3)\n",
      "Requirement already satisfied: attrs>=17.4.0 in /usr/local/lib/python3.9/site-packages (from jsonschema>=2.6->qiskit-terra==0.16.4->qiskit) (20.3.0)\n",
      "Requirement already satisfied: decorator>=4.3.0 in /usr/local/lib/python3.9/site-packages (from networkx>=2.2->qiskit-ignis==0.5.2->qiskit) (4.4.2)\n",
      "Requirement already satisfied: chardet<5,>=3.0.2 in /usr/local/lib/python3.9/site-packages (from requests->docplex==2.15.194->qiskit-aqua==0.8.2->qiskit) (4.0.0)\n",
      "Requirement already satisfied: certifi>=2017.4.17 in /usr/local/lib/python3.9/site-packages (from requests->docplex==2.15.194->qiskit-aqua==0.8.2->qiskit) (2020.12.5)\n",
      "Requirement already satisfied: idna<3,>=2.5 in /usr/local/lib/python3.9/site-packages (from requests->docplex==2.15.194->qiskit-aqua==0.8.2->qiskit) (2.10)\n",
      "Requirement already satisfied: cryptography>=1.3 in /usr/local/lib/python3.9/site-packages (from requests-ntlm>=1.1.0->qiskit-ibmq-provider==0.12.1->qiskit) (3.3.1)\n",
      "Requirement already satisfied: ntlm-auth>=1.0.2 in /usr/local/lib/python3.9/site-packages (from requests-ntlm>=1.1.0->qiskit-ibmq-provider==0.12.1->qiskit) (1.5.0)\n",
      "Requirement already satisfied: cffi>=1.12 in /usr/local/lib/python3.9/site-packages (from cryptography>=1.3->requests-ntlm>=1.1.0->qiskit-ibmq-provider==0.12.1->qiskit) (1.14.4)\n",
      "Requirement already satisfied: pycparser in /usr/local/lib/python3.9/site-packages (from cffi>=1.12->cryptography>=1.3->requests-ntlm>=1.1.0->qiskit-ibmq-provider==0.12.1->qiskit) (2.20)\n",
      "Requirement already satisfied: threadpoolctl>=2.0.0 in /usr/local/lib/python3.9/site-packages (from scikit-learn>=0.20.0->qiskit-aqua==0.8.2->qiskit) (2.1.0)\n",
      "Requirement already satisfied: joblib>=0.11 in /usr/local/lib/python3.9/site-packages (from scikit-learn>=0.20.0->qiskit-aqua==0.8.2->qiskit) (1.0.1)\n",
      "Requirement already satisfied: mpmath>=0.19 in /usr/local/lib/python3.9/site-packages (from sympy>=1.3->qiskit-aqua==0.8.2->qiskit) (1.2.1)\n",
      "Requirement already satisfied: pytz>=2017.3 in /usr/local/lib/python3.9/site-packages (from pandas->qiskit-aqua==0.8.2->qiskit) (2020.5)\n",
      "Requirement already satisfied: more-itertools in /usr/local/lib/python3.9/site-packages (from quandl->qiskit-aqua==0.8.2->qiskit) (8.7.0)\n",
      "Requirement already satisfied: inflection>=0.3.1 in /usr/local/lib/python3.9/site-packages (from quandl->qiskit-aqua==0.8.2->qiskit) (0.5.1)\n",
      "Requirement already satisfied: lxml>=4.5.1 in /usr/local/lib/python3.9/site-packages (from yfinance->qiskit-aqua==0.8.2->qiskit) (4.6.3)\n",
      "Requirement already satisfied: multitasking>=0.0.7 in /usr/local/lib/python3.9/site-packages (from yfinance->qiskit-aqua==0.8.2->qiskit) (0.0.9)\n",
      "Installing collected packages: qiskit\n",
      "Successfully installed qiskit-0.24.0\n",
      "Note: you may need to restart the kernel to use updated packages.\n"
     ]
    }
   ],
   "source": [
    "pip install --user qiskit"
   ]
  },
  {
   "cell_type": "code",
   "execution_count": 6,
   "metadata": {},
   "outputs": [
    {
     "ename": "QiskitChemistryError",
     "evalue": "'PySCF is not installed. See https://sunqm.github.io/pyscf/install.html'",
     "output_type": "error",
     "traceback": [
      "\u001b[0;31m---------------------------------------------------------------------------\u001b[0m",
      "\u001b[0;31mQiskitChemistryError\u001b[0m                      Traceback (most recent call last)",
      "\u001b[0;32m<ipython-input-6-d82b35c0d4c1>\u001b[0m in \u001b[0;36m<module>\u001b[0;34m\u001b[0m\n\u001b[1;32m      3\u001b[0m                               ['H', [0., 0., 0.735]]],\n\u001b[1;32m      4\u001b[0m                      charge=0, multiplicity=1)\n\u001b[0;32m----> 5\u001b[0;31m \u001b[0mdriver\u001b[0m \u001b[0;34m=\u001b[0m \u001b[0mPySCFDriver\u001b[0m\u001b[0;34m(\u001b[0m\u001b[0mmolecule\u001b[0m \u001b[0;34m=\u001b[0m \u001b[0mmolecule\u001b[0m\u001b[0;34m,\u001b[0m \u001b[0munit\u001b[0m\u001b[0;34m=\u001b[0m\u001b[0mUnitsType\u001b[0m\u001b[0;34m.\u001b[0m\u001b[0mANGSTROM\u001b[0m\u001b[0;34m,\u001b[0m \u001b[0mbasis\u001b[0m\u001b[0;34m=\u001b[0m\u001b[0;34m'sto3g'\u001b[0m\u001b[0;34m)\u001b[0m\u001b[0;34m\u001b[0m\u001b[0;34m\u001b[0m\u001b[0m\n\u001b[0m",
      "\u001b[0;32m/usr/local/lib/python3.9/site-packages/qiskit/chemistry/drivers/pyscfd/pyscfdriver.py\u001b[0m in \u001b[0;36m__init__\u001b[0;34m(self, atom, unit, charge, spin, basis, hf_method, conv_tol, max_cycle, init_guess, max_memory, molecule)\u001b[0m\n\u001b[1;32m     81\u001b[0m             \u001b[0mQiskitChemistryError\u001b[0m\u001b[0;34m:\u001b[0m \u001b[0mInvalid\u001b[0m \u001b[0mInput\u001b[0m\u001b[0;34m\u001b[0m\u001b[0;34m\u001b[0m\u001b[0m\n\u001b[1;32m     82\u001b[0m         \"\"\"\n\u001b[0;32m---> 83\u001b[0;31m         \u001b[0mself\u001b[0m\u001b[0;34m.\u001b[0m\u001b[0m_check_valid\u001b[0m\u001b[0;34m(\u001b[0m\u001b[0;34m)\u001b[0m\u001b[0;34m\u001b[0m\u001b[0;34m\u001b[0m\u001b[0m\n\u001b[0m\u001b[1;32m     84\u001b[0m         \u001b[0;32mif\u001b[0m \u001b[0;32mnot\u001b[0m \u001b[0misinstance\u001b[0m\u001b[0;34m(\u001b[0m\u001b[0matom\u001b[0m\u001b[0;34m,\u001b[0m \u001b[0mstr\u001b[0m\u001b[0;34m)\u001b[0m \u001b[0;32mand\u001b[0m \u001b[0;32mnot\u001b[0m \u001b[0misinstance\u001b[0m\u001b[0;34m(\u001b[0m\u001b[0matom\u001b[0m\u001b[0;34m,\u001b[0m \u001b[0mlist\u001b[0m\u001b[0;34m)\u001b[0m\u001b[0;34m:\u001b[0m\u001b[0;34m\u001b[0m\u001b[0;34m\u001b[0m\u001b[0m\n\u001b[1;32m     85\u001b[0m             \u001b[0;32mraise\u001b[0m \u001b[0mQiskitChemistryError\u001b[0m\u001b[0;34m(\u001b[0m\u001b[0;34m\"Invalid atom input for PYSCF Driver '{}'\"\u001b[0m\u001b[0;34m.\u001b[0m\u001b[0mformat\u001b[0m\u001b[0;34m(\u001b[0m\u001b[0matom\u001b[0m\u001b[0;34m)\u001b[0m\u001b[0;34m)\u001b[0m\u001b[0;34m\u001b[0m\u001b[0;34m\u001b[0m\u001b[0m\n",
      "\u001b[0;32m/usr/local/lib/python3.9/site-packages/qiskit/chemistry/drivers/pyscfd/pyscfdriver.py\u001b[0m in \u001b[0;36m_check_valid\u001b[0;34m()\u001b[0m\n\u001b[1;32m    115\u001b[0m             \u001b[0;32mraise\u001b[0m \u001b[0mQiskitChemistryError\u001b[0m\u001b[0;34m(\u001b[0m\u001b[0merr_msg\u001b[0m\u001b[0;34m)\u001b[0m \u001b[0;32mfrom\u001b[0m \u001b[0mex\u001b[0m\u001b[0;34m\u001b[0m\u001b[0;34m\u001b[0m\u001b[0m\n\u001b[1;32m    116\u001b[0m \u001b[0;34m\u001b[0m\u001b[0m\n\u001b[0;32m--> 117\u001b[0;31m         \u001b[0;32mraise\u001b[0m \u001b[0mQiskitChemistryError\u001b[0m\u001b[0;34m(\u001b[0m\u001b[0merr_msg\u001b[0m\u001b[0;34m)\u001b[0m\u001b[0;34m\u001b[0m\u001b[0;34m\u001b[0m\u001b[0m\n\u001b[0m\u001b[1;32m    118\u001b[0m \u001b[0;34m\u001b[0m\u001b[0m\n\u001b[1;32m    119\u001b[0m     \u001b[0;32mdef\u001b[0m \u001b[0mrun\u001b[0m\u001b[0;34m(\u001b[0m\u001b[0mself\u001b[0m\u001b[0;34m)\u001b[0m \u001b[0;34m->\u001b[0m \u001b[0mQMolecule\u001b[0m\u001b[0;34m:\u001b[0m\u001b[0;34m\u001b[0m\u001b[0;34m\u001b[0m\u001b[0m\n",
      "\u001b[0;31mQiskitChemistryError\u001b[0m: 'PySCF is not installed. See https://sunqm.github.io/pyscf/install.html'"
     ]
    }
   ],
   "source": [
    "from qiskit.chemistry.drivers import PySCFDriver, UnitsType, Molecule\n",
    "molecule = Molecule(geometry=[['H', [0., 0., 0.]],\n",
    "                              ['H', [0., 0., 0.735]]],\n",
    "                     charge=0, multiplicity=1)\n",
    "driver = PySCFDriver(molecule = molecule, unit=UnitsType.ANGSTROM, basis='sto3g')"
   ]
  },
  {
   "cell_type": "code",
   "execution_count": null,
   "metadata": {},
   "outputs": [],
   "source": [
    "from qiskit.chemistry.transformations import (FermionicTransformation,\n",
    "                                              FermionicTransformationType,\n",
    "                                              FermionicQubitMappingType)\n",
    "\n",
    "fermionic_transformation = FermionicTransformation(\n",
    "            transformation=FermionicTransformationType.FULL,\n",
    "            qubit_mapping=FermionicQubitMappingType.JORDAN_WIGNER,\n",
    "            two_qubit_reduction=False,\n",
    "            freeze_core=False)"
   ]
  },
  {
   "cell_type": "code",
   "execution_count": null,
   "metadata": {},
   "outputs": [],
   "source": [
    "qubit_op, _ = fermionic_transformation.transform(driver)\n",
    "print(qubit_op)\n",
    "print(fermionic_transformation.molecule_info)"
   ]
  },
  {
   "cell_type": "code",
   "execution_count": 3,
   "metadata": {},
   "outputs": [
    {
     "ename": "NameError",
     "evalue": "name 'FermionicTransformation' is not defined",
     "output_type": "error",
     "traceback": [
      "\u001b[0;31m---------------------------------------------------------------------------\u001b[0m",
      "\u001b[0;31mNameError\u001b[0m                                 Traceback (most recent call last)",
      "\u001b[0;32m<ipython-input-3-0159a3966bd5>\u001b[0m in \u001b[0;36m<module>\u001b[0;34m\u001b[0m\n\u001b[0;32m----> 1\u001b[0;31m fermionic_transformation_2 = FermionicTransformation(\n\u001b[0m\u001b[1;32m      2\u001b[0m             \u001b[0mtransformation\u001b[0m\u001b[0;34m=\u001b[0m\u001b[0mFermionicTransformationType\u001b[0m\u001b[0;34m.\u001b[0m\u001b[0mFULL\u001b[0m\u001b[0;34m,\u001b[0m\u001b[0;34m\u001b[0m\u001b[0;34m\u001b[0m\u001b[0m\n\u001b[1;32m      3\u001b[0m             \u001b[0mqubit_mapping\u001b[0m\u001b[0;34m=\u001b[0m\u001b[0mFermionicQubitMappingType\u001b[0m\u001b[0;34m.\u001b[0m\u001b[0mPARITY\u001b[0m\u001b[0;34m,\u001b[0m\u001b[0;34m\u001b[0m\u001b[0;34m\u001b[0m\u001b[0m\n\u001b[1;32m      4\u001b[0m             \u001b[0mtwo_qubit_reduction\u001b[0m\u001b[0;34m=\u001b[0m\u001b[0;32mTrue\u001b[0m\u001b[0;34m,\u001b[0m\u001b[0;34m\u001b[0m\u001b[0;34m\u001b[0m\u001b[0m\n\u001b[1;32m      5\u001b[0m             freeze_core=False)\n",
      "\u001b[0;31mNameError\u001b[0m: name 'FermionicTransformation' is not defined"
     ]
    }
   ],
   "source": [
    "fermionic_transformation_2 = FermionicTransformation(\n",
    "            transformation=FermionicTransformationType.FULL,\n",
    "            qubit_mapping=FermionicQubitMappingType.PARITY,\n",
    "            two_qubit_reduction=True,\n",
    "            freeze_core=False)\n",
    "qubit_op_2, _ = fermionic_transformation_2.transform(driver)\n",
    "print(qubit_op_2)"
   ]
  },
  {
   "cell_type": "code",
   "execution_count": null,
   "metadata": {},
   "outputs": [],
   "source": [
    "fermionic_transformation_3 = FermionicTransformation(\n",
    "            transformation=FermionicTransformationType.PARTICLE_HOLE,\n",
    "            qubit_mapping=FermionicQubitMappingType.JORDAN_WIGNER,\n",
    "            two_qubit_reduction=False,\n",
    "            freeze_core=False)\n",
    "qubit_op_3, _ = fermionic_transformation_3.transform(driver)\n",
    "print(qubit_op_3)"
   ]
  },
  {
   "cell_type": "code",
   "execution_count": null,
   "metadata": {},
   "outputs": [],
   "source": [
    "print('*Transformations')\n",
    "for fer_transform in FermionicTransformationType:\n",
    "    print(fer_transform)\n",
    "\n",
    "print('\\n*Mappings')\n",
    "for fer_mapping in FermionicQubitMappingType:\n",
    "    print(fer_mapping)"
   ]
  },
  {
   "cell_type": "code",
   "execution_count": null,
   "metadata": {},
   "outputs": [],
   "source": [
    "import qiskit.tools.jupyter\n",
    "%qiskit_version_table\n",
    "%qiskit_copyright"
   ]
  }
 ],
 "metadata": {
  "kernelspec": {
   "display_name": "Python 3",
   "language": "python",
   "name": "python3"
  },
  "language_info": {
   "codemirror_mode": {
    "name": "ipython",
    "version": 3
   },
   "file_extension": ".py",
   "mimetype": "text/x-python",
   "name": "python",
   "nbconvert_exporter": "python",
   "pygments_lexer": "ipython3",
   "version": "3.9.2"
  }
 },
 "nbformat": 4,
 "nbformat_minor": 4
}
