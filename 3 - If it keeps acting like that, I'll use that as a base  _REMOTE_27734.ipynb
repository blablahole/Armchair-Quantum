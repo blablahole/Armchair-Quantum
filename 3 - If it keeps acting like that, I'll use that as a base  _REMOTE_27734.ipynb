{
 "cells": [
  {
   "cell_type": "markdown",
   "id": "blank-hunter",
   "metadata": {},
   "source": [
    "# 3.1 Particles As Radiation"
   ]
  },
  {
   "cell_type": "markdown",
   "id": "occupational-blond",
   "metadata": {},
   "source": [
    "Light emits radiation. Our eyes can only receive a certain range of radiation as visible light."
   ]
  },
  {
   "cell_type": "code",
   "execution_count": null,
   "id": "joint-duncan",
   "metadata": {},
   "outputs": [],
   "source": [
    "run CUSHIONS/3.1.py"
   ]
  },
  {
   "cell_type": "markdown",
   "id": "sacred-diagram",
   "metadata": {},
   "source": [
    "From the first tutorial, we understand the photoelectric effect by electrons turning into photoelectrons. From the perspective of spectroscopy, the electron absorb the light and leave black bars."
   ]
  },
  {
   "cell_type": "code",
   "execution_count": null,
   "id": "duplicate-present",
   "metadata": {},
   "outputs": [],
   "source": [
    "from IPython.display import Image\n",
    "Image(\"CUSHIONS/3.2.png\")"
   ]
  },
  {
   "cell_type": "markdown",
   "id": "major-sustainability",
   "metadata": {},
   "source": [
    "The wavelength of black bars help us to understand the amount and energy level of different chemical elemenets. Space exploration use these information to determine the chemical elements of distanced planet, with mere radiation that reach earth."
   ]
  },
  {
   "cell_type": "markdown",
   "id": "pressed-disney",
   "metadata": {},
   "source": [
    "# 3.2 Particles As Spins"
   ]
  },
  {
   "cell_type": "markdown",
   "id": "canadian-glenn",
   "metadata": {},
   "source": [
    "Other than energy level of electrons, they have another fundamental property called spins, except they are not really spinning. \n",
    "\n",
    "In the Stern-Gerlach experiment in 1922, a beam of silver atoms were sent through an inhomogeneous magnetic field for observing their deflection. \n",
    "\n",
    "As assumed electrons spin in different pole angles of electromagnetic waves with different angular momentum, the magnet would alter the projection target in different degrees. \n",
    "\n",
    "<div><img src=\"CUSHIONS/3.3.jpg\" width=\"450\"/></div>\n"
   ]
  },
  {
   "cell_type": "markdown",
   "id": "printable-surrey",
   "metadata": {},
   "source": [
    "The experiment suggested otherwise. Instead of evenly distribution of electrons in different angles, there seem to be only spinning 50% \"up\" and 50% \"down\".\n",
    "\n",
    "<div><img src=\"CUSHIONS/3.4.png\" width=\"450\"/></div>\n",
    "\n",
    "<p style=\"line-height: 1.7; font-family: Arial; font-size:1em;color:blue;\"> Up and down as in making an observation on planet Earth? </p>\n",
    "\n",
    "Yes as in on a cosmic body.\n",
    "\n",
    "Anyhow we concluded a fundamental property of electron spin, up and down, which can be manipulated for either direction."
   ]
  },
  {
   "cell_type": "markdown",
   "id": "false-fitting",
   "metadata": {},
   "source": [
    "# 3.3 Qubits"
   ]
  },
  {
   "cell_type": "markdown",
   "id": "liquid-duplicate",
   "metadata": {},
   "source": [
    "If we can measure and change the property of chemical elements, it is possible to encode these states for real life applications. \n",
    "\n",
    "Let's say lowest energy level, or ground state, of an atom as 0; and level 1, or excitement state, as 1. \n",
    "\n",
    "Similarly we can encode electron spinning up as 1 and spinning down as 0.\n",
    "\n",
    "Translating into binary, we can encode an atom for computational purpose. "
   ]
  },
  {
   "cell_type": "code",
   "execution_count": null,
   "id": "typical-campbell",
   "metadata": {},
   "outputs": [],
   "source": [
    "%%capture\n",
    "pip install git+https://github.com/qiskit-community/qiskit-textbook.git#subdirectory=qiskit-textbook-src"
   ]
  },
  {
   "cell_type": "code",
   "execution_count": null,
   "id": "collectible-university",
   "metadata": {},
   "outputs": [],
   "source": [
    "%%capture\n",
    "pip install numexpr scipy"
   ]
  },
  {
   "cell_type": "code",
   "execution_count": null,
   "id": "decent-heritage",
   "metadata": {},
   "outputs": [],
   "source": [
    "import scipy\n",
    "from qiskit_textbook.widgets import plot_bloch_vector_spherical\n",
    "coords = [scipy.pi/2,0,1] # [Theta, Phi, Radius]\n",
    "plot_bloch_vector_spherical(coords) # Bloch Vector with spherical coordinates\n"
   ]
  },
  {
   "cell_type": "markdown",
   "id": "protected-doctor",
   "metadata": {},
   "source": [
    "# 3.4 Quantum Gate"
   ]
  },
  {
   "cell_type": "code",
   "execution_count": null,
   "id": "descending-tiger",
   "metadata": {},
   "outputs": [],
   "source": []
  }
 ],
 "metadata": {
  "kernelspec": {
   "display_name": "Python 3",
   "language": "python",
   "name": "python3"
  },
  "language_info": {
   "codemirror_mode": {
    "name": "ipython",
    "version": 3
   },
   "file_extension": ".py",
   "mimetype": "text/x-python",
   "name": "python",
   "nbconvert_exporter": "python",
   "pygments_lexer": "ipython3",
   "version": "3.8.12"
  }
 },
 "nbformat": 4,
 "nbformat_minor": 5
}
